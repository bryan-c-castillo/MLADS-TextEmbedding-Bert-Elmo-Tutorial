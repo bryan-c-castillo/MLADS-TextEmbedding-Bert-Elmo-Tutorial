{
 "cells": [
  {
   "cell_type": "markdown",
   "metadata": {},
   "source": [
    "# ELMo Create Classifier From Embeddings"
   ]
  },
  {
   "cell_type": "code",
   "execution_count": 1,
   "metadata": {},
   "outputs": [],
   "source": [
    "import pandas as pd\n",
    "import numpy as np\n",
    "from xgboost import XGBClassifier\n",
    "from sklearn.metrics import roc_auc_score\n",
    "from IPython.core.display import HTML"
   ]
  },
  {
   "cell_type": "code",
   "execution_count": 2,
   "metadata": {},
   "outputs": [],
   "source": [
    "data_dir = \"data\""
   ]
  },
  {
   "cell_type": "code",
   "execution_count": 3,
   "metadata": {},
   "outputs": [],
   "source": [
    "imdb_data = pd.read_pickle(f\"{data_dir}/imdb_data_w_elmo_embedding.pickle.gz\")"
   ]
  },
  {
   "cell_type": "code",
   "execution_count": 4,
   "metadata": {},
   "outputs": [],
   "source": [
    "train = imdb_data[imdb_data.data_set == \"train\"]\n",
    "test  = imdb_data[imdb_data.data_set == \"test\"]"
   ]
  },
  {
   "cell_type": "code",
   "execution_count": 5,
   "metadata": {},
   "outputs": [],
   "source": [
    "def emb_to_ndarray(column):\n",
    "    return np.array([[cell for cell in row] for row in column])"
   ]
  },
  {
   "cell_type": "code",
   "execution_count": 6,
   "metadata": {},
   "outputs": [
    {
     "data": {
      "text/plain": [
       "XGBClassifier(base_score=0.5, booster='gbtree', colsample_bylevel=1,\n",
       "       colsample_bynode=1, colsample_bytree=1, gamma=0, learning_rate=0.1,\n",
       "       max_delta_step=0, max_depth=6, min_child_weight=1, missing=None,\n",
       "       n_estimators=100, n_jobs=1, nthread=None,\n",
       "       objective='binary:logistic', random_state=0, reg_alpha=0,\n",
       "       reg_lambda=1, scale_pos_weight=1, seed=None, silent=None,\n",
       "       subsample=1, verbosity=1)"
      ]
     },
     "execution_count": 6,
     "metadata": {},
     "output_type": "execute_result"
    }
   ],
   "source": [
    "xgb = XGBClassifier(max_depth=6)\n",
    "xgb.fit(emb_to_ndarray(train.embedding), train.polarity)"
   ]
  },
  {
   "cell_type": "code",
   "execution_count": 7,
   "metadata": {},
   "outputs": [
    {
     "name": "stdout",
     "output_type": "stream",
     "text": [
      "prediction auc of xgb is 0.7722979306366716.\n"
     ]
    }
   ],
   "source": [
    "predictions = xgb.predict_proba(emb_to_ndarray(test.embedding)) \n",
    "score = roc_auc_score(test.polarity, predictions[:,1])\n",
    "print(f'prediction auc of xgb is {score}.')"
   ]
  },
  {
   "cell_type": "markdown",
   "metadata": {},
   "source": [
    "## Look At Movies"
   ]
  },
  {
   "cell_type": "code",
   "execution_count": 8,
   "metadata": {},
   "outputs": [],
   "source": [
    "scores = xgb.predict_proba(emb_to_ndarray(imdb_data.embedding))\n",
    "imdb_data['score'] = scores[:,1]"
   ]
  },
  {
   "cell_type": "code",
   "execution_count": 9,
   "metadata": {},
   "outputs": [],
   "source": [
    "# Get the average positive sentiment propability by movie\n",
    "movie_scores = []\n",
    "for mid, df in imdb_data.groupby('movie_id'):\n",
    "    movie_scores.append({\n",
    "        'movie_id': mid,\n",
    "        'score': df.score.mean(),\n",
    "        'min_score': df.score.min(),\n",
    "        'max_score': df.score.max(),\n",
    "        'score_range': df.score.max() - df.score.min()\n",
    "    })    \n",
    "movie_scores = pd.DataFrame(movie_scores).sort_values(by='score', ascending=False)"
   ]
  },
  {
   "cell_type": "code",
   "execution_count": 10,
   "metadata": {},
   "outputs": [],
   "source": [
    "def display_movies(movie_scores):\n",
    "    for m in movie_scores.iterrows():\n",
    "        display(HTML(f\"<a href='https://www.imdb.com/title/{m[1].movie_id}'>{m[1].movie_id}</a> Score: {m[1].score}<br/>\"))\n",
    "        for s in imdb_data[imdb_data.movie_id == m[1].movie_id].sentence[0:2]:\n",
    "            display(HTML(f\"<i>{s}</i><p/>\"))"
   ]
  },
  {
   "cell_type": "code",
   "execution_count": 11,
   "metadata": {},
   "outputs": [
    {
     "data": {
      "text/html": [
       "<a href='https://www.imdb.com/title/tt0397501'>tt0397501</a> Score: 0.939132034778595<br/>"
      ],
      "text/plain": [
       "<IPython.core.display.HTML object>"
      ]
     },
     "metadata": {},
     "output_type": "display_data"
    },
    {
     "data": {
      "text/html": [
       "<i>The problem with the 1985 version of this movie is simple; Indiana Jones was so closely modeled after Alan Quartermain (or at least is an Alan Quartermain TYPE of character), that the '85 director made the mistake of plundering the IJ movies for dialog and story far too deeply. What you got as a finished product was a jumbled mess of the name Alan Quartermain, in an uneven hodge podge of a cheaply imitated IJ saga (with a touch of Austin Powers-esquire cheese here and there). <br /><br />It was labeled by many critics to have been a \"great parody,\" or \"unintentional comedy.\" Unintentional is the word. This movie was never intended to be humorous; witty, yes, but not humorous. Unfortunately, it's witless rather than witty.<br /><br />With this new M4TV mini-series, you get much more story, character development of your lead, solid portrayals, and a fine, even, entertaining blend. This story is a bit long; much longer than its predecessors, but deservedly so as this version carries a real storyline and not just action and Eye Candy. While it features both action and Eye Candy, it also corrects the mistake made in the 1985 version by forgetting IJ all together and going back to the source materials for AQ, making for a fine, well - thought - out plot, and some nice complementing sub-plots. <br /><br />Now this attempt is not the all out action-extravaganza that is Indiana Jones. Nor is it a poor attempt to be so. This vehicle is plot and character driven and is a beautiful rendition of the AQ/KSM saga. Filmed on location in South Africa, the audience is granted beautiful (if desolate) vistas, SA aboriginal cultures, and some nice wildlife footage to blend smoothly with the performances and storyline here.<br /><br />Steve Boyum totally surprised me with this one, as I have never been one to subscribe to his vision. In fact, I have disliked most of his work as a director, until this attempt. I hope this is more a new vein of talent and less the fluke that it seems to be. <br /><br />This version rates a 9.8/10 on the \"TV\" scale from...<br /><br />the Fiend :.</i><p/>"
      ],
      "text/plain": [
       "<IPython.core.display.HTML object>"
      ]
     },
     "metadata": {},
     "output_type": "display_data"
    },
    {
     "data": {
      "text/html": [
       "<a href='https://www.imdb.com/title/tt0043455'>tt0043455</a> Score: 0.9660096168518066<br/>"
      ],
      "text/plain": [
       "<IPython.core.display.HTML object>"
      ]
     },
     "metadata": {},
     "output_type": "display_data"
    },
    {
     "data": {
      "text/html": [
       "<i>To some, this Biblical film is a story of judgment and condemnation... Others see it as a story of grace, restoration, and hope... It is actually both  Henry King illustrates the portrait of a mighty monarch almost destroyed by his passion, his downward spiral of sin, and his upward climb of healing..<br /><br />'David and Bathsheba' is an emotional movie full of vividly memorable characters who attain mythic status while retaining their humanity... Henry King handles the powerful story, taken from the Old Testament, with skill...<br /><br />David, 'the lion of Judah,' having stormed the walls of Rabgah, saves the life of one of his faithful warriors Uriah (Kieron Moore), and returns to Jerusalem... <br /><br />Back at his court, his first wife complains of neglect, and offends him for being a shepherd's son, distinguishing herself for being the daughter of King Saul...<br /><br />One evening, and while walking on the terrace of his palace which evidently held a commanding view of the neighborhood, David's eyes happened to alight upon a young lady who was taking a refreshing bath... She was beautiful and attractive... David could not take his eyes off her... He finds out later on that she was the wife of one of his officers... <br /><br />Sending for her, he discovers that she, too, is unhappy in her marriage... By this point, it's apparent that David's intentions shift from an interest in taking Bathsheba as a wife, to just plain taking Bathsheba... As usual, sin had its consequences, and David hadn't planned on that possibility...<br /><br />When a drought sweeps the land and there is a threat of famine, David suspects that the Lord is punishing him and his people for his sin... But when Bathsheba tells him that she is pregnant and fears that she may be stoned to death according to the law of Moses, David tries to cover up his sin... <br /><br />He sends word to Joab, the commander of his army, and ordered him to send to him Bathsheba's husband... David did something that was abominable in God's sight... He sends the man to the front line where he would be killed... <br /><br />The soldier is indeed killed and with him out of the way, David marries his beloved Bathsheba in full regal splendor...<br /><br />God punishes the couple when Bathsheba's child dies soon after birth... Meanwhile, a mighty famine has spread throughout the land and the Israelites - led by Nathan - blame the King for their plight... They storm the palace and demand that Bathsheba pays for her sin...<br /><br />Peck plays the compassionate king whose lustful desire outweighed his good sense and integrity.. <br /><br />Hayward as Bathsheba, is a sensitive woman who begins to believe that every disaster occurring in her life is the direct result of her adultery... The sequence of her bath which could have been a great moment in Biblical film history, is badly mishandled, and the viewers eyes are led briefly to Hayward's face and shoulders...<br /><br />Raymond Massey appeared as Nathan the Prophet, sent by God to rebuke David after his adultery with Bathsheba; Gwyneth Verdon is Queen Michal who tries to resist the ambition and greed that have become integral to David's personality and kingship; ex-silent screen idol, Francis X. Bushman, had a brief part as King Saul... <br /><br />The best moments of the film were: The Ark en route to its permanent home when God breaks a young soldier who tries to touch the sacred object; the defining moment in David's life when he confesses his sin and is prepared to accept his punishment of death; and for the film's climax, inserting it as a flashback, David remembering his fight with the giant Goliath... <br /><br />With superb color photography and a masterly music score, 'David and Bathsheba' won Oscar nominations in the following categories: Music Scoring, Art and Set Direction, Cinematography, Story and Screenplay, and Costume Design..</i><p/>"
      ],
      "text/plain": [
       "<IPython.core.display.HTML object>"
      ]
     },
     "metadata": {},
     "output_type": "display_data"
    }
   ],
   "source": [
    "display_movies(movie_scores[movie_scores.score >= 0.9].sample(2))"
   ]
  },
  {
   "cell_type": "code",
   "execution_count": null,
   "metadata": {},
   "outputs": [],
   "source": [
    "display_movies(movie_scores[movie_scores.score <= 0.1].sample(2))"
   ]
  },
  {
   "cell_type": "code",
   "execution_count": null,
   "metadata": {},
   "outputs": [],
   "source": []
  }
 ],
 "metadata": {
  "kernelspec": {
   "display_name": "Python 3.6 - AzureML",
   "language": "python",
   "name": "python3-azureml"
  },
  "language_info": {
   "codemirror_mode": {
    "name": "ipython",
    "version": 3
   },
   "file_extension": ".py",
   "mimetype": "text/x-python",
   "name": "python",
   "nbconvert_exporter": "python",
   "pygments_lexer": "ipython3",
   "version": "3.6.8"
  }
 },
 "nbformat": 4,
 "nbformat_minor": 2
}

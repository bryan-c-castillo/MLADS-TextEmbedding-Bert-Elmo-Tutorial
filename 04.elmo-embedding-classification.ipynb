{
 "cells": [
  {
   "cell_type": "markdown",
   "metadata": {},
   "source": [
    "# ELMo Create Classifier From Embeddings"
   ]
  },
  {
   "cell_type": "code",
   "execution_count": 41,
   "metadata": {},
   "outputs": [],
   "source": [
    "import pandas as pd\n",
    "import numpy as np\n",
    "from xgboost import XGBClassifier\n",
    "from sklearn.metrics import roc_auc_score\n",
    "from IPython.core.display import HTML"
   ]
  },
  {
   "cell_type": "code",
   "execution_count": 2,
   "metadata": {},
   "outputs": [],
   "source": [
    "data_dir = \"data\""
   ]
  },
  {
   "cell_type": "code",
   "execution_count": 3,
   "metadata": {},
   "outputs": [],
   "source": [
    "imdb_data = pd.read_pickle(f\"{data_dir}/imdb_data_w_elmo_embedding.pickle.gz\")"
   ]
  },
  {
   "cell_type": "code",
   "execution_count": 5,
   "metadata": {},
   "outputs": [],
   "source": [
    "train = imdb_data[imdb_data.data_set == \"train\"]\n",
    "test  = imdb_data[imdb_data.data_set == \"test\"]"
   ]
  },
  {
   "cell_type": "code",
   "execution_count": 6,
   "metadata": {},
   "outputs": [],
   "source": [
    "def emb_to_ndarray(column):\n",
    "    return np.array([[cell for cell in row] for row in column])"
   ]
  },
  {
   "cell_type": "code",
   "execution_count": 7,
   "metadata": {},
   "outputs": [
    {
     "data": {
      "text/plain": [
       "XGBClassifier(base_score=0.5, booster='gbtree', colsample_bylevel=1,\n",
       "       colsample_bynode=1, colsample_bytree=1, gamma=0, learning_rate=0.1,\n",
       "       max_delta_step=0, max_depth=6, min_child_weight=1, missing=None,\n",
       "       n_estimators=100, n_jobs=1, nthread=None,\n",
       "       objective='binary:logistic', random_state=0, reg_alpha=0,\n",
       "       reg_lambda=1, scale_pos_weight=1, seed=None, silent=None,\n",
       "       subsample=1, verbosity=1)"
      ]
     },
     "execution_count": 7,
     "metadata": {},
     "output_type": "execute_result"
    }
   ],
   "source": [
    "xgb = XGBClassifier(max_depth=6)\n",
    "xgb.fit(emb_to_ndarray(train.embedding), train.polarity) "
   ]
  },
  {
   "cell_type": "code",
   "execution_count": 8,
   "metadata": {},
   "outputs": [
    {
     "name": "stdout",
     "output_type": "stream",
     "text": [
      "prediction auc of xgb is 0.8669516960000001.\n"
     ]
    }
   ],
   "source": [
    "predictions = xgb.predict_proba(emb_to_ndarray(test.embedding)) \n",
    "score = roc_auc_score(test.polarity, predictions[:,1])\n",
    "print(f'prediction auc of xgb is {score}.')"
   ]
  },
  {
   "cell_type": "markdown",
   "metadata": {},
   "source": [
    "## Look At Movies"
   ]
  },
  {
   "cell_type": "code",
   "execution_count": 19,
   "metadata": {},
   "outputs": [],
   "source": [
    "scores = xgb.predict_proba(emb_to_ndarray(imdb_data.embedding))\n",
    "imdb_data['score'] = scores[:,1]"
   ]
  },
  {
   "cell_type": "code",
   "execution_count": 78,
   "metadata": {},
   "outputs": [],
   "source": [
    "# Get the average positive sentiment propability by movie\n",
    "movie_scores = []\n",
    "for mid, df in imdb_data.groupby('movie_id'):\n",
    "    movie_scores.append({\n",
    "        'movie_id': mid,\n",
    "        'score': df.score.mean(),\n",
    "        'min_score': df.score.min(),\n",
    "        'max_score': df.score.max(),\n",
    "        'score_range': df.score.max() - df.score.min()\n",
    "    })    \n",
    "movie_scores = pd.DataFrame(movie_scores).sort_values(by='score', ascending=False)"
   ]
  },
  {
   "cell_type": "code",
   "execution_count": 82,
   "metadata": {},
   "outputs": [],
   "source": [
    "def display_movies(movie_scores):\n",
    "    for m in movie_scores.iterrows():\n",
    "        display(HTML(f\"<a href='https://www.imdb.com/title/{m[1].movie_id}'>{m[1].movie_id}</a> Score: {m[1].score}<br/>\"))\n",
    "        for s in imdb_data[imdb_data.movie_id == m[1].movie_id].sentence[0:2]:\n",
    "            display(HTML(f\"<i>{s}</i><p/>\"))"
   ]
  },
  {
   "cell_type": "code",
   "execution_count": 85,
   "metadata": {},
   "outputs": [
    {
     "data": {
      "text/html": [
       "<a href='https://www.imdb.com/title/tt0089235'>tt0089235</a> Score: 0.9071662425994873<br/>"
      ],
      "text/plain": [
       "<IPython.core.display.HTML object>"
      ]
     },
     "metadata": {},
     "output_type": "display_data"
    },
    {
     "data": {
      "text/html": [
       "<i>Whoever said that horror wasn't an educational film genre, huh? Thanks to this marvelous Hammer short movie, I now at least know NEVER to offer a strange visitor any wine and a slice of bread with salt in my own house, because he might just be hypnotist and this combination will give him the power to control my thoughts & mind forever! Thank you Hammer! The tenth episode in the House of Horror series is another one I've been looking forward to seeing, mainly because the guy in the director's chair was Don Sharp; one of Britain's finest filmmakers but still sadly underrated. Sharp was responsible for some very cool Hammer films, like \"Kiss of the Vampire\" and \"Rasputin: The Mad Monk\", as well as some overlooked independent productions like \"Dark Places\" and \"Psychomania\". His contribution to House of Horror is easily one of the best in the series, with a complex yet fascinating plot outline and revolving on delightful occult themes. The plot centers on two antique dealers that stumble upon a strange object resembling a mirror, but it's actually an ancient scrying device that can be used to summon Choronzhon; the demonic guardian of the abyss. The mirror is heavily desired by a satanic cult since they need it for their ceremonies, but Michael is reluctant to sell it before knowing the real value of the device. When he picks up a clearly petrified girl who's running from the cult to avoid being sacrificed, Michael is drawn even deeper into an occult conspiracy. Satanic cults and the carnal sacrifice of young women are typical British horror topics, but David Fischer's screenplay is never dull and offers plenty of neat plot twits, among which a highly inventive climax. There's also plenty of tension to admire, the dialogs are wit and the acting performances are splendid (especially John Carson as the leader of the cult is genuinely eerie). Recommended!</i><p/>"
      ],
      "text/plain": [
       "<IPython.core.display.HTML object>"
      ]
     },
     "metadata": {},
     "output_type": "display_data"
    },
    {
     "data": {
      "text/html": [
       "<i>I love occult Horror, and the great British Hammer Studios, who delivered one of their greatest films with \"The Devil Rides Out\" (1968), have proved to be more than capable in this field of Horror. This occult tenth episode of Hammer's short running TV-series \"Hammer House of Horror\" (1980), \"Guardian of the Abyss\", is indeed a creepy entry to the series. Director Don Sharp, who had previously enriched the Hammer oeuvre with \"The Kiss of the Vampire\" (1963) and \"Rasputin: The Mad Monk\" (1966) and furthermore directed two \"Fu Machu\" movies starring Christopher Lee, is doubtlessly one of the better-known names among the HHH directors, and he also delivers here. Antiques dealer Michael (Ray Lonnen) stumbles over a mysterious old scrying glass. The scrying glass happens to be the object of desire of a devil-worshiping cult, who want to use it for their satanic rites. When he shelters a beautiful young girl named Allison (Rosalyn Landor), who is to be sacrificed by the cult, Michael gets into deeper trouble with the cult and their sinister leader (John Carson)... While this is not one of my absolute favorite episodes of \"Hammer House of Horror\" (the best one clearly is the brilliant seventh episode, \"The Silent Scream\"), it is a very creepy and atmospheric one. The plot has several interesting twists, and stays suspenseful and uncanny throughout the film. Ray Lonnen makes a good lead, young Rosalyin Landor is convincing as the innocent beauty, and John Carson is truly creepy as the leader of the Satanists. Overall, \"Guardian of the Abyss\" is another interesting and creepy HHH tale, and my fellow Hammer fans should not miss it.</i><p/>"
      ],
      "text/plain": [
       "<IPython.core.display.HTML object>"
      ]
     },
     "metadata": {},
     "output_type": "display_data"
    },
    {
     "data": {
      "text/html": [
       "<a href='https://www.imdb.com/title/tt0068307'>tt0068307</a> Score: 0.9173457026481628<br/>"
      ],
      "text/plain": [
       "<IPython.core.display.HTML object>"
      ]
     },
     "metadata": {},
     "output_type": "display_data"
    },
    {
     "data": {
      "text/html": [
       "<i>this is indeed a treat for every Bolan fan, some might think that it's a little over the top, and that it is only about Ringo and Marc's egos, but i think it's similar to any other concert video, except for the fact that this is Marc bolan, not just any guy! i especially liked the music video for children of the revolution, with Elton John and Ringo Starr. this clip alone is worth all the money, i can't believe they did'not release this version as the single. The movie is really superb, especially for us danes. Now, I wasn't alive during the 70's. but danes in general was totally shot out from what was happening around them. the media didn't play or show any of the popular music back then, including Marc Bolan and T.Rex, they only played a little with The Doors, only the really popular songs though. so, i know from my dad, that seeing this, gives him back a part of his youth, he never got to experience.<br /><br />i wont make this too long, so... If you're the least bit fan of Marc Bolan, you need to see this. you might find it boring or as said before, a little over the top. But at least you've seen one of the best musicians ever, in action!<br /><br />Only thing that disappoints me a little, is that Ride A White Swan isn't on the tape. but i forgive it, since Jeepster and Get It On are so wonderfully played.</i><p/>"
      ],
      "text/plain": [
       "<IPython.core.display.HTML object>"
      ]
     },
     "metadata": {},
     "output_type": "display_data"
    },
    {
     "data": {
      "text/html": [
       "<i>BORN TO BOOGIE is a real 'find'--though a rock fan for nearly thirty years, I only first saw the film a few days ago, and rank it among the top rock films of all time; the music's terrific (the cream of T. Rex) and the visuals consistently exciting and unusual, leaving this viewer craving any more past directorial efforts of Ringo Starr, who did a fine job here. If you love the music, you'll be in T. Rextasy throughout, as Marc Bolan really is the star of the piece, front and center. Even the fact that some songs are repeated doesn't matter a bit: different venues, costuming, musical arrangements, and bizarre visual concepts are all used to lend different textures and a great deal of upbeat humor to what could have ended up as 'only' a concert film in other hands. As rich and full packed as BORN TO BOOGIE is, the film's only about an hour long, but what is there is totally satisfying. Therein lies my only criticism--the video package states something like 71 minutes, and at least one online source claims the film to be 67 minutes, but apparently it's more like 61 minutes of rocking fun.</i><p/>"
      ],
      "text/plain": [
       "<IPython.core.display.HTML object>"
      ]
     },
     "metadata": {},
     "output_type": "display_data"
    }
   ],
   "source": [
    "display_movies(movie_scores[movie_scores.score >= 0.9].sample(2))"
   ]
  },
  {
   "cell_type": "code",
   "execution_count": 86,
   "metadata": {},
   "outputs": [
    {
     "data": {
      "text/html": [
       "<a href='https://www.imdb.com/title/tt0202321'>tt0202321</a> Score: 0.05864619463682175<br/>"
      ],
      "text/plain": [
       "<IPython.core.display.HTML object>"
      ]
     },
     "metadata": {},
     "output_type": "display_data"
    },
    {
     "data": {
      "text/html": [
       "<i>Some films are so badly made they are watchable purely for the cringe factor. Disciples made me cringe so much it was uncomfortable. I watched it all disbelieving what I was watching, wasn't anyone aware how bad this was whilst they were filming? Mix the most hammed performances from the most wooden actors, an abysmal script were every comment from all of the 'actors' sounded like it came from the same character and the most hurried editing that tried (and failed bigtime) to give the film a forced pace. All these combined into a film that will rob you of a few hours of your life and give nothing in return. Avoid at EVERY cost.</i><p/>"
      ],
      "text/plain": [
       "<IPython.core.display.HTML object>"
      ]
     },
     "metadata": {},
     "output_type": "display_data"
    },
    {
     "data": {
      "text/html": [
       "<a href='https://www.imdb.com/title/tt0382073'>tt0382073</a> Score: 0.09702043235301971<br/>"
      ],
      "text/plain": [
       "<IPython.core.display.HTML object>"
      ]
     },
     "metadata": {},
     "output_type": "display_data"
    },
    {
     "data": {
      "text/html": [
       "<i>What a wasted cast.<br /><br />This is one of the most disappointing films I've seen.<br /><br />Usually Roger Ebert does not let me down, but I feel cheated after seeing this movie.<br /><br />The only thrill is seeing Elizabeth banks in her bra. That is a sorry statement about this movie. It held so much promise, but it was like dry humping a transvestite.<br /><br />This is self absorbed tripe.<br /><br />I cannot express deeply enough my bitterness at having sat through this movie, and hope I can forewarn you of the same disappointment.</i><p/>"
      ],
      "text/plain": [
       "<IPython.core.display.HTML object>"
      ]
     },
     "metadata": {},
     "output_type": "display_data"
    },
    {
     "data": {
      "text/html": [
       "<i>I thought they should have called this movie \"Whites\" instead of \"Heights\". Godawful...the kind of film that makes people hate New Yorkers. People who are so self obsessed and think their lives are so important...give me a break. Such a lily white cast that Glenn Close was the most ethnic character in it, this film was crying out for someone real to come in and steal it...and so they introduce, get this, a character even whiter than the rest of the cast (I thought he was an albino at first)who's supposed to be Welsh!I'm still trying to decipher that accent! Intellectually dishonest...this movie is the kind of film that's able to fool so many people into thinking it's worthwhile because it has the trappings of something more ambitious. Better to fill the theaters with MI5-10 than with this pretentious crap...must have been a better play because you can't fall off the floor.</i><p/>"
      ],
      "text/plain": [
       "<IPython.core.display.HTML object>"
      ]
     },
     "metadata": {},
     "output_type": "display_data"
    }
   ],
   "source": [
    "display_movies(movie_scores[movie_scores.score <= 0.1].sample(2))"
   ]
  },
  {
   "cell_type": "code",
   "execution_count": null,
   "metadata": {},
   "outputs": [],
   "source": []
  }
 ],
 "metadata": {
  "kernelspec": {
   "display_name": "Python 3",
   "language": "python",
   "name": "python3"
  },
  "language_info": {
   "codemirror_mode": {
    "name": "ipython",
    "version": 3
   },
   "file_extension": ".py",
   "mimetype": "text/x-python",
   "name": "python",
   "nbconvert_exporter": "python",
   "pygments_lexer": "ipython3",
   "version": "3.7.2"
  }
 },
 "nbformat": 4,
 "nbformat_minor": 2
}

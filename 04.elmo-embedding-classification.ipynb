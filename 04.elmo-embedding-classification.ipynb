{
 "cells": [
  {
   "cell_type": "markdown",
   "metadata": {},
   "source": [
    "# Using ELMo Embeddings In Another Classifier\n",
    "\n",
    "This example uses the extracted ELMo text embedding values from the IMDB dataset as features for an XGBoost classifier."
   ]
  },
  {
   "cell_type": "code",
   "execution_count": 1,
   "metadata": {},
   "outputs": [],
   "source": [
    "import pandas as pd\n",
    "import numpy as np\n",
    "from xgboost import XGBClassifier\n",
    "from sklearn.metrics import roc_auc_score\n",
    "from IPython.core.display import HTML"
   ]
  },
  {
   "cell_type": "code",
   "execution_count": 2,
   "metadata": {},
   "outputs": [],
   "source": [
    "data_dir = \"data\""
   ]
  },
  {
   "cell_type": "markdown",
   "metadata": {},
   "source": [
    "## Load Data"
   ]
  },
  {
   "cell_type": "code",
   "execution_count": 3,
   "metadata": {},
   "outputs": [],
   "source": [
    "imdb_data = pd.read_pickle(\"{}/imdb_data_w_elmo_embedding.pickle.gz\".format(data_dir))"
   ]
  },
  {
   "cell_type": "code",
   "execution_count": 4,
   "metadata": {},
   "outputs": [],
   "source": [
    "train = imdb_data[imdb_data.data_set == \"train\"]\n",
    "test  = imdb_data[imdb_data.data_set == \"test\"]"
   ]
  },
  {
   "cell_type": "markdown",
   "metadata": {},
   "source": [
    "## Train Classifier"
   ]
  },
  {
   "cell_type": "code",
   "execution_count": 5,
   "metadata": {},
   "outputs": [],
   "source": [
    "# Utility to convert a column from a pandas dataframe into a multi-dimenstional numpy array.\n",
    "def emb_to_ndarray(column):\n",
    "    return np.array([[cell for cell in row] for row in column])"
   ]
  },
  {
   "cell_type": "code",
   "execution_count": 6,
   "metadata": {},
   "outputs": [
    {
     "data": {
      "text/plain": [
       "XGBClassifier(base_score=0.5, booster='gbtree', colsample_bylevel=1,\n",
       "       colsample_bynode=1, colsample_bytree=1, gamma=0, learning_rate=0.1,\n",
       "       max_delta_step=0, max_depth=6, min_child_weight=1, missing=None,\n",
       "       n_estimators=100, n_jobs=1, nthread=None,\n",
       "       objective='binary:logistic', random_state=0, reg_alpha=0,\n",
       "       reg_lambda=1, scale_pos_weight=1, seed=None, silent=None,\n",
       "       subsample=1, verbosity=1)"
      ]
     },
     "execution_count": 6,
     "metadata": {},
     "output_type": "execute_result"
    }
   ],
   "source": [
    "xgb = XGBClassifier(max_depth=6)\n",
    "xgb.fit(emb_to_ndarray(train.embedding), train.polarity)"
   ]
  },
  {
   "cell_type": "markdown",
   "metadata": {},
   "source": [
    "## Test Classifier"
   ]
  },
  {
   "cell_type": "code",
   "execution_count": 7,
   "metadata": {},
   "outputs": [
    {
     "name": "stdout",
     "output_type": "stream",
     "text": [
      "prediction auc of xgb is 0.7828920101312457.\n"
     ]
    }
   ],
   "source": [
    "predictions = xgb.predict_proba(emb_to_ndarray(test.embedding)) \n",
    "score = roc_auc_score(test.polarity, predictions[:,1])\n",
    "print('prediction auc of xgb is {}.'.format(score))"
   ]
  },
  {
   "cell_type": "markdown",
   "metadata": {},
   "source": [
    "## Look At Movies (for fun)\n",
    "\n",
    "Uses the positive probability for reviews as a way to rank movies."
   ]
  },
  {
   "cell_type": "code",
   "execution_count": 8,
   "metadata": {},
   "outputs": [],
   "source": [
    "scores = xgb.predict_proba(emb_to_ndarray(imdb_data.embedding))\n",
    "imdb_data['score'] = scores[:,1]"
   ]
  },
  {
   "cell_type": "code",
   "execution_count": 9,
   "metadata": {},
   "outputs": [],
   "source": [
    "# Get the average positive sentiment propability by movie\n",
    "movie_scores = []\n",
    "for mid, df in imdb_data.groupby('movie_id'):\n",
    "    movie_scores.append({\n",
    "        'movie_id': mid,\n",
    "        'score': df.score.mean(),\n",
    "        'min_score': df.score.min(),\n",
    "        'max_score': df.score.max(),\n",
    "        'score_range': df.score.max() - df.score.min()\n",
    "    })    \n",
    "movie_scores = pd.DataFrame(movie_scores).sort_values(by='score', ascending=False)"
   ]
  },
  {
   "cell_type": "code",
   "execution_count": 11,
   "metadata": {},
   "outputs": [],
   "source": [
    "def display_movies(movie_scores):\n",
    "    for m in movie_scores.iterrows():\n",
    "        display(HTML(\"<a href='https://www.imdb.com/title/{}'>{}</a> Score: {}<br/>\".format(\n",
    "            m[1].movie_id,\n",
    "            m[1].movie_id,\n",
    "            m[1].score\n",
    "        )))\n",
    "        for s in imdb_data[imdb_data.movie_id == m[1].movie_id].sentence[0:2]:\n",
    "            display(HTML(\"<i>{}</i><p/>\".format(s)))"
   ]
  },
  {
   "cell_type": "code",
   "execution_count": 12,
   "metadata": {},
   "outputs": [
    {
     "data": {
      "text/html": [
       "<a href='https://www.imdb.com/title/tt0020701'>tt0020701</a> Score: 0.9330854415893555<br/>"
      ],
      "text/plain": [
       "<IPython.core.display.HTML object>"
      ]
     },
     "metadata": {},
     "output_type": "display_data"
    },
    {
     "data": {
      "text/html": [
       "<i>I'm usually a fan of \"art\" and \"foreign\" films, but when I saw this one my reaction was \"it must be called experimental because it makes no sense.\" The \"action\" is static, while at the same time it bounces from one location to another. There aren't enough titles to make it clear who is who and what their relationships are. Apparently the main point was to show that in the face of murder, adultery and generally weird and dissolute behavior, the cure offered by the powers that be is to banish a totally innocent black man.</i><p/>"
      ],
      "text/plain": [
       "<IPython.core.display.HTML object>"
      ]
     },
     "metadata": {},
     "output_type": "display_data"
    },
    {
     "data": {
      "text/html": [
       "<a href='https://www.imdb.com/title/tt0476643'>tt0476643</a> Score: 0.9918618202209473<br/>"
      ],
      "text/plain": [
       "<IPython.core.display.HTML object>"
      ]
     },
     "metadata": {},
     "output_type": "display_data"
    },
    {
     "data": {
      "text/html": [
       "<i>Since the advent of literature, people of all nationalities have been fascinated and easily touched by accounts of unhappy love. Even more fascinating have always been the tales of impossible love, love that cannot be. The Israeli filmmaker Eytan Fox' latest film The Bubble\" is about that. And then it is also not. The title of the film refers to the bubble\" that is Tel-Aviv set against the background of the political realities of Israel. The country's cosmopolitan and unofficial capital city doesn't have much in common with Nablus, a city in the Palestinian West Bank which also features in the film. It doesn't have much in common with the tense and hateful atmosphere at the Palestinian checkpoints. Actually, it doesn't seem to have much in common with anything surrounding it. The bubble\" of Tel-Aviv allows people to have a lifestyle which isn't much different from what you may expect in any Western city. Teenage girls looking for Britney Spears' records, a lifestyle magazine editor looking for a sexy cover for his next issue, trendy people sitting in trendy cafes discussing trendy things over cups of cappuccino and other similarly trendy drinks, while those at home are watching the local edition of Pop Idol. It is this bubble\" that also has the potential to lull one's mind into a false sense of reality.<br /><br />The film evolves around the lives of three young Israelis who share a flat and, for the most part, try to stay out of politics. Yelli, the camp owner and manager of Orna & Ella\", a hip cafe, rarely leaves the city and prefers not to think about the crap that surrounds them\". Noam, a soft and easygoing employee of a slightly avantguard record store, seems to be equally unwilling to engage in long political discussions and contemplations. Lulu, the only female of the lot, is on the contrary linked to the Israeli Left, although her political activities seem to be confined to raves against the occupation\". Yelli and Noam naturally don't object to participating in these. Lulu and her political friends make t-shirts with the rave's logo, put up posters and hand out booklets advertising it in the neighbourhood. Their main concern seems to be that there are never any actual Palestinians participating and that the police might come and spoil all the fun for them again. The closest they come to an actual confrontation is when they get into a scuffle with some not so Palestinian-friendly locals who try to prevent them from handing out the leaflets. In other words, predictable products of the bubble\".<br /><br />The opening scenes of the film take us to a checkpoint on a road to Nablus where we also find Noam doing his reserve duty. A group of Palestinians is being thoroughly checked before entering Israel, among them a pregnant woman who suddenly goes into labour and gives birth to a stillborn child despite the best efforts from Noam and the doctor who eventually arrives in an ambulance. The woman is comforted by a young man who later turns up on Noam's doorstep in Tel-Aviv with his ID which the latter obviously dropped during the ordeal on the border. His name is Ashraf, he's Palestinian and he's gay. And he hasn't just come to hand back the ID, he has come to see Noam. Without a permit to live in Israel and despite the initial hesitation from Noam's flatmates he stays. He soon gets a Jewish name and a job at Yelli's cafe. Having grown up in Jerusalem with Hebrew, he doesn't have an Arabic accent which makes it possible for him and his newly found friends to conceal his identity. The sky is light blue and the air is sweet. But it cannot last. For he has become part of an equation which was never meant to be.<br /><br />At one point, Noam and Ashraf watch a play called Bent about two prisoners in a Nazi concentration camp who have a love relationship which can never become physical or visible to the surrounding guards. They find a way of being together on another level, a metaphysical one, a level where no one else has access. This is also where our couple arrives in the end. And it couldn't have been much different for them, not in today's Israel.<br /><br />The Bubble\" is a political statement about the bubble that bursts when confronted with the political realities of today's Israel set against the background of a beautiful and awkward love story involving an Israeli and a Palestinian, the impossible love story in a divided world where no such things as compromise or other colours than black and white exist. The Bubble\" is also a beautiful film about people, gay and straight, inhabiting that strange city, Tel-Aviv, shown through the eyes of people who really care about them. The film's premise may have its flaws and the fatal chain of events may seem somewhat construed, but its strong message and emotional impact will not leave you untouched.</i><p/>"
      ],
      "text/plain": [
       "<IPython.core.display.HTML object>"
      ]
     },
     "metadata": {},
     "output_type": "display_data"
    }
   ],
   "source": [
    "display_movies(movie_scores[movie_scores.score >= 0.9].sample(2))"
   ]
  },
  {
   "cell_type": "code",
   "execution_count": 18,
   "metadata": {},
   "outputs": [
    {
     "data": {
      "text/html": [
       "<a href='https://www.imdb.com/title/tt0247804'>tt0247804</a> Score: 0.023404113948345184<br/>"
      ],
      "text/plain": [
       "<IPython.core.display.HTML object>"
      ]
     },
     "metadata": {},
     "output_type": "display_data"
    },
    {
     "data": {
      "text/html": [
       "<i>This is a bit of a first for me, the first time I have ever been disappointed in a Tim Burton film. POTA isn't a bad film (great sets, costumes and the odd great performance) but it could have been made by any off-the-shelf hollywood director. The pacing was very odd, the last third was just spent waiting for the film to end, by myself and the cast. Tim Roth was excellent, probably the only pleasure in the film. Come back Tim.</i><p/>"
      ],
      "text/plain": [
       "<IPython.core.display.HTML object>"
      ]
     },
     "metadata": {},
     "output_type": "display_data"
    },
    {
     "data": {
      "text/html": [
       "<a href='https://www.imdb.com/title/tt0327409'>tt0327409</a> Score: 0.015950685366988182<br/>"
      ],
      "text/plain": [
       "<IPython.core.display.HTML object>"
      ]
     },
     "metadata": {},
     "output_type": "display_data"
    },
    {
     "data": {
      "text/html": [
       "<i>With one of my very favorite actors, James Spader, I expected this film to be at least tolerable. It wasn't. After the first half hour I watched the rest of it with the remote control in my hand so the fast forward was at the ready. So trite, so standard, one knows what's going to happen in each scene. One can even predict the dialogue word for word. This is one of those movies that makes one scratch ones head and say, \"How did this movie ever get made?\" In an effort to say something positive, I'll add that there are some mildly entertaining special effects. But, on the whole, if you've seen 5 Sci/fi movies, or you are over 9 years old, do yourself a favor and skip this one.</i><p/>"
      ],
      "text/plain": [
       "<IPython.core.display.HTML object>"
      ]
     },
     "metadata": {},
     "output_type": "display_data"
    }
   ],
   "source": [
    "display_movies(movie_scores[movie_scores.score <= 0.1].sample(2))"
   ]
  },
  {
   "cell_type": "code",
   "execution_count": null,
   "metadata": {},
   "outputs": [],
   "source": []
  }
 ],
 "metadata": {
  "kernelspec": {
   "display_name": "Python 3.6 - AzureML",
   "language": "python",
   "name": "python3-azureml"
  },
  "language_info": {
   "codemirror_mode": {
    "name": "ipython",
    "version": 3
   },
   "file_extension": ".py",
   "mimetype": "text/x-python",
   "name": "python",
   "nbconvert_exporter": "python",
   "pygments_lexer": "ipython3",
   "version": "3.6.8"
  }
 },
 "nbformat": 4,
 "nbformat_minor": 2
}

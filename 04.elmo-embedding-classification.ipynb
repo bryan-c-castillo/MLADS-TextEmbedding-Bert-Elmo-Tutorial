{
 "cells": [
  {
   "cell_type": "markdown",
   "metadata": {},
   "source": [
    "# ELMo Create Classifier From Embeddings"
   ]
  },
  {
   "cell_type": "code",
   "execution_count": 1,
   "metadata": {},
   "outputs": [],
   "source": [
    "import pandas as pd\n",
    "import numpy as np\n",
    "from xgboost import XGBClassifier\n",
    "from sklearn.metrics import roc_auc_score\n",
    "from IPython.core.display import HTML"
   ]
  },
  {
   "cell_type": "code",
   "execution_count": 2,
   "metadata": {},
   "outputs": [],
   "source": [
    "data_dir = \"data\""
   ]
  },
  {
   "cell_type": "code",
   "execution_count": 3,
   "metadata": {},
   "outputs": [],
   "source": [
    "imdb_data = pd.read_pickle(f\"{data_dir}/imdb_data_w_elmo_embedding.pickle.gz\")"
   ]
  },
  {
   "cell_type": "code",
   "execution_count": 4,
   "metadata": {},
   "outputs": [],
   "source": [
    "train = imdb_data[imdb_data.data_set == \"train\"]\n",
    "test  = imdb_data[imdb_data.data_set == \"test\"]"
   ]
  },
  {
   "cell_type": "code",
   "execution_count": 5,
   "metadata": {},
   "outputs": [],
   "source": [
    "def emb_to_ndarray(column):\n",
    "    return np.array([[cell for cell in row] for row in column])"
   ]
  },
  {
   "cell_type": "code",
   "execution_count": 6,
   "metadata": {},
   "outputs": [
    {
     "data": {
      "text/plain": [
       "XGBClassifier(base_score=0.5, booster='gbtree', colsample_bylevel=1,\n",
       "       colsample_bynode=1, colsample_bytree=1, gamma=0, learning_rate=0.1,\n",
       "       max_delta_step=0, max_depth=6, min_child_weight=1, missing=None,\n",
       "       n_estimators=100, n_jobs=1, nthread=None,\n",
       "       objective='binary:logistic', random_state=0, reg_alpha=0,\n",
       "       reg_lambda=1, scale_pos_weight=1, seed=None, silent=None,\n",
       "       subsample=1, verbosity=1)"
      ]
     },
     "execution_count": 6,
     "metadata": {},
     "output_type": "execute_result"
    }
   ],
   "source": [
    "xgb = XGBClassifier(max_depth=6)\n",
    "xgb.fit(emb_to_ndarray(train.embedding), train.polarity) "
   ]
  },
  {
   "cell_type": "code",
   "execution_count": 7,
   "metadata": {},
   "outputs": [
    {
     "name": "stdout",
     "output_type": "stream",
     "text": [
      "prediction auc of xgb is 0.7955555555555556.\n"
     ]
    }
   ],
   "source": [
    "predictions = xgb.predict_proba(emb_to_ndarray(test.embedding)) \n",
    "score = roc_auc_score(test.polarity, predictions[:,1])\n",
    "print(f'prediction auc of xgb is {score}.')"
   ]
  },
  {
   "cell_type": "markdown",
   "metadata": {},
   "source": [
    "## Look At Movies"
   ]
  },
  {
   "cell_type": "code",
   "execution_count": 8,
   "metadata": {},
   "outputs": [],
   "source": [
    "scores = xgb.predict_proba(emb_to_ndarray(imdb_data.embedding))\n",
    "imdb_data['score'] = scores[:,1]"
   ]
  },
  {
   "cell_type": "code",
   "execution_count": 9,
   "metadata": {},
   "outputs": [],
   "source": [
    "# Get the average positive sentiment propability by movie\n",
    "movie_scores = []\n",
    "for mid, df in imdb_data.groupby('movie_id'):\n",
    "    movie_scores.append({\n",
    "        'movie_id': mid,\n",
    "        'score': df.score.mean(),\n",
    "        'min_score': df.score.min(),\n",
    "        'max_score': df.score.max(),\n",
    "        'score_range': df.score.max() - df.score.min()\n",
    "    })    \n",
    "movie_scores = pd.DataFrame(movie_scores).sort_values(by='score', ascending=False)"
   ]
  },
  {
   "cell_type": "code",
   "execution_count": 10,
   "metadata": {},
   "outputs": [],
   "source": [
    "def display_movies(movie_scores):\n",
    "    for m in movie_scores.iterrows():\n",
    "        display(HTML(f\"<a href='https://www.imdb.com/title/{m[1].movie_id}'>{m[1].movie_id}</a> Score: {m[1].score}<br/>\"))\n",
    "        for s in imdb_data[imdb_data.movie_id == m[1].movie_id].sentence[0:2]:\n",
    "            display(HTML(f\"<i>{s}</i><p/>\"))"
   ]
  },
  {
   "cell_type": "code",
   "execution_count": 11,
   "metadata": {},
   "outputs": [
    {
     "data": {
      "text/html": [
       "<a href='https://www.imdb.com/title/tt0097211'>tt0097211</a> Score: 0.9699758291244507<br/>"
      ],
      "text/plain": [
       "<IPython.core.display.HTML object>"
      ]
     },
     "metadata": {},
     "output_type": "display_data"
    },
    {
     "data": {
      "text/html": [
       "<i>Corbin Bernsen's sent letters to four criminal associates he's worked with in the past and it's a real intergenerational mix with Fred Gwynne, Lou Diamond Phillips, William Russ, and Ruben Blades. They're to meet him in this obscure Montana town and he doesn't explain why because he's then picked up by out of state police from New Jersey on a warrant. <br /><br />Of the criminal group that's been gathered together, they all know Bernsen, but don't know each other. A lot of comedy involved is them feeling each other out. As the oldest Gwynne though denying it kind of takes charge with the others grumbling, but going along. Especially when they figure out what Bernsen had in mind.<br /><br />As for Bernsen, he's got the good fortune to be picked up by a pair of bumblers in Ed O'Neill and Daniel Roebuck. He gets the drop on O'Neill and escapes.<br /><br />After that it's the four criminals trying to finish what Bernsen started and Bernsen getting away the police. In the intricately plotted screenplay, it's fascinating how both story lines keep intertwining with each other. Hoyt Axton as the local sheriff watches in amazement at what unfolds in his town.<br /><br />Disorganized Crime is a fabulously funny caper film by a bunch of players who seem mostly to have had a background in television or would soon. I can't say that anyone stood out in the cast they also seem to click so well together. <br /><br />Ironically none of these people are comedians per se, but they all exhibit a light comic touch that good directing brought out. <br /><br />Disorganized Crime is one very funny caper movie, the kind of film that well known pessimist Mr. Murphy would have written.</i><p/>"
      ],
      "text/plain": [
       "<IPython.core.display.HTML object>"
      ]
     },
     "metadata": {},
     "output_type": "display_data"
    },
    {
     "data": {
      "text/html": [
       "<a href='https://www.imdb.com/title/tt0800259'>tt0800259</a> Score: 0.9674815535545349<br/>"
      ],
      "text/plain": [
       "<IPython.core.display.HTML object>"
      ]
     },
     "metadata": {},
     "output_type": "display_data"
    },
    {
     "data": {
      "text/html": [
       "<i>WWE Armageddon, December 17, 2006 -- Live from Richmond Coliseum, Richmond, VA <br /><br />Kane vs. MVP in an Inferno match: So this is the fourth ever inferno match in the WWE and it is Kane vs. MVP (wonder why was it the first match on the card). I only viewed the ending parts where Kane sets MVP's ass on fire as they're on the apron and then MVP is running around the arena while yelling  eventually the refs put out the fire with a fire extinguisher as MVP sprawls around the entrance ramp. Funny and visually quite entertaining ending. 7/10<br /><br />WWE Tag Team Championship: This was originally supposed to be William Regal & Dave Taylor vs. Brian Kendrick & Paul London (c) in a regular tag team match. However, GM Teddy Long comes to the ring and announces that it's going to be a Fatal 4-way tag team ladder match. MNM and The Hardys are thrown in and it's all chaos. One word to describe this eye-opener  wow. Man, I really can't remember how many sick spots there were in this match and words can't really do it justice. There was one particularly notable spot where The Hardys set up a ladder in a see-saw position and Jeff jumped off the top rope while Matt held MNM for the kill, and then WHAM! Nitro blew away while Mercury apparently botched it and was bleeding like hell with lacerations over his face. He had to be taken away and Nitro continued the match alone. Another spot was when Jeff powerbombed London while FLIPPING off the ladder. There were other high-flying breathtaking spots too many to remember. London finally unbuckles the belts to win this rave show-stealer. 8.5/10<br /><br />The Boogeyman vs. The Miz: The two men get thrown in and around the ring until Boogeyman explodes a sit-out powerbomb for the victory and then and drools worms over The Miz's mouth as usual. 5.5/10 for this three-minute incognito.<br /><br />United States championship: Chris Benoit (c) faces off Chavo Guerrero in yet another typical Guerrero match. Some good spots included a superplex off the top rope by Chavo and an unusually long chain of German suplexes by Benoit. Vicki Guerrero comes in the ring with the belt to nail Benoit but Benoit scares her off and takes a long time deciding whether to put her in a Sharpshooter or not. This allows Chavo to go for a roll-up but Benoit rolls it up once more and Chavo is locked in the Sharpshooter. Game over. Nice hard-fought battle albeit slow at times. 7/10<br /><br />WWE Cruiserweight championship: Gregory Helms (c) vs. Jimmy Wang Yang for this one, in a fairly moderate-paced match. The match had some good high-flying spots  most notably Helms' moves off the top rope  but the crowd didn't seem to be into it after witnessing the ladder match, and Yang needs to get more airborne. Helms won the match after blowing Yang away with a facebuster on the knee. 7.5/10<br /><br />The Undertaker vs. Mr. Kennedy in a Last Ride match: After a series of matches between these two, this time it is a Last Ride match, the second ever of its kind and the winner has to escort his opponent out of the arena in a hearse. Pretty good indeed for what these two could offer. Kennedy manhandled a good deal of Taker and even broke free of a chokeslam to throw Taker off the Armageddon set about 15 feet below; and thank God for Kennedy, otherwise it would've been brutal. Kennedy almost got the win until Taker got back up inside the hearse (I liked the camera view inside the hearse). Taker then missed a steel pipe hurl on Kennedy and broke the hearse's window instead, but then later busted Kennedy open with a chair, and followed with a consecutive chokeslam and Tombstone on the hearse's roof. Kennedy was unconscious and Taker drove him out of the arena to win. I actually found myself really interested into these guys' willingness to take/give real sick shots. 7.5/10<br /><br />Santa comes into the ring, I go \"what the hell?\" like many of the kids in the crowd, and then the word \"lingerie contest\" gets in my ear. Break time.<br /><br />Batista & John Cena vs. Finlay & King Booker: talk about charisma vs. technicality. This match was actually a quite good main event with the momentum rationally shifting from one team to the other and retaining good suspense. Even Finlay got some legitimate good shots on his opponents this time (I kind of doubted his strength against the champs), and him and Booker mainly didn't succeed in trying to cheat  except at one point where Booker rammed his scepter into Cena's throat. Batista hits the Bomb on Booker for the win, didn't get to see the F-U; Cena performed the 5 Knuckle Shuffle anyhow and I think he also did the STFU. This was probably the best technical match of the night and the participants did superbly indeed for what they could without a ladder 7.5/10.<br /><br />Being an on-and-off WWE fan, I have to agree that Armageddon was laced up with numerous eye-catchers throughout, and the ladder match ultimately swallowed half of the show; the Last Ride match featured some fairly nerve-wrenching spots, and the main event also did very well for its category. All other matches also lived up to their billing except perhaps the Boogeyman vs. The Miz bout and the ever-useless lingerie contest. Overall Armageddon was a highly enjoyable pay-per-view and despite some big setbacks earlier in the PPV chronology, Armageddon wishes this year's goodbye respectably. PPV rating: 8/10.</i><p/>"
      ],
      "text/plain": [
       "<IPython.core.display.HTML object>"
      ]
     },
     "metadata": {},
     "output_type": "display_data"
    }
   ],
   "source": [
    "display_movies(movie_scores[movie_scores.score >= 0.9].sample(2))"
   ]
  },
  {
   "cell_type": "code",
   "execution_count": 12,
   "metadata": {},
   "outputs": [
    {
     "data": {
      "text/html": [
       "<a href='https://www.imdb.com/title/tt0083189'>tt0083189</a> Score: 0.017221160233020782<br/>"
      ],
      "text/plain": [
       "<IPython.core.display.HTML object>"
      ]
     },
     "metadata": {},
     "output_type": "display_data"
    },
    {
     "data": {
      "text/html": [
       "<i>I have this film out of the library right now and I haven't finished watching it. It is so bad I am in disbelief. Audrey Hepburn had totally lost her talent by then, although she'd pretty much finished with it in 'Robin and Marian.' This is the worst thing about this appallingly stupid film. It's really only of interest because it was her last feature film and because of the Dorothy Stratten appearance just prior to her homicide.<br /><br />There is nothing but idiocy between Gazzara and his cronies. Little signals and little bows and nods to real screwball comedy of which this is the faintest, palest shadow.<br /><br />Who could believe that there are even some of the same Manhattan environs that Hepburn inhabited so magically and even mythically in 'Breakfast at Tiffany's' twenty years earlier? The soundtrack of old Sinatra songs and the Gershwin song from which the title is taken is too loud and obvious--you sure don't have to wait for the credits to find out that something was subtly woven into the cine-musique of the picture to know when the songs blasted out at you.<br /><br />'Reverting to type' means going back up as well as going back down, I guess. In this case, Audrey Hepburn's chic European lady is all you see of someone who was formerly occasionally an actress and always a star. Here she has even lost her talent as a star. If someone whose talent was continuing to grow in the period, like Ann-Margret, had played the role, there would have been some life in it, even given the unbelievably bad material and Mongoloid-level situations.<br /><br />Hepburn was a great person, of course, greater than most movie stars ever dreamed of being, and she was once one of the most charming and beautiful of film actors. After this dreadful performance, she went on to make an atrocious TV movie with Robert Wagner called 'Love Among Thieves.' In 'They all Laughed' it is as though she were still playing an ingenue in her 50's. Even much vainer and obviously less intelligent actresses who insisted upon doing this like Lana Turner were infinitely more effective than is Hepburn. Turner took acting seriously even when she was bad. Hepburn doesn't take it seriously at all, couldn't be bothered with it; even her hair and clothes look tacky. Her last really good work was in 'Two for the Road,' perhaps her most perfect, if possibly not her best in many ways.<br /><br />And that girl who plays the country singer is just sickening. John Ritter is horrible, there is simply nothing to recommend this film except to see Dorothy Stratten, who was truly pretty. Otherwise, critic David Thomson's oft-used phrase 'losing his/her talent' never has made more sense.<br /><br />Ben Gazarra had lost all sex appeal by then, and so we have 2 films with Gazarra and Hepburn--who could ask for anything less? Sandra Dee's last, pitiful film 'Lost,' from 2 years later, a low-budget nothing, had more to it than this. At least Ms. Dee spoke in her own voice; by 1981, Audrey Hepburn's accent just sounded silly; she'd go on to do the PBS 'Gardens of the World with Audrey Hepburn' and there her somewhat irritating accent works as she walks through English gardens with aristocrats or waxes effusively about 'what I like most is when flowers go back to nature!' as in naturalized daffodils, but in an actual fictional movie, she just sounds ridiculous.<br /><br />To think that 'Breakfast at Tiffany's' was such a profound sort of light poetic thing with Audrey Hepburn one of the most beautiful women in the world--she was surely one of the most beautiful screen presences in 'My Fair Lady', matching Garbo in several things and Delphine Seyrig in 'Last Year at Marienbad.' And then this! And her final brief role as the angel 'Hap' in the Spielberg film 'Always' was just more of the lady stuff--corny, witless and stifling.<br /><br />I went to her memorial service at the Fifth Avenue Presbyterian Church, a beautiful service which included a boys' choir singing the Shaker hymn 'Simple Gifts.' The only thing not listed in the program was the sudden playing of Hepburn's singing 'Moon River' on the fire escape in 'Breakfast at Tiffany's,' and this brought much emotion and some real tears out in the congregation.<br /><br />A great lady who was once a fine actress (as in 'The Nun's Story') and one of the greatest and most beautiful of film stars in many movies of the 50's and 60's who became a truly bad one--that's not all that common. And perhaps it is only a great human being who, in making such things as film performances trivial, nevertheless has the largeness of mind to want to have the flaws pointed out mercilessly--which all of her late film work contained in abundance. Most of the talk about Hepburn's miscasting is about 'My Fair Lady.' But the one that should have had the original actress in it was 'Wait Until Dark,' which had starred Lee Remick on Broadway. Never as celebrated as Hepburn, she was a better actress in many ways (Hepburn was completely incapable of playing anything really sordid), although Hepburn was at least adequate enough in that part. After that, all of her acting went downhill.</i><p/>"
      ],
      "text/plain": [
       "<IPython.core.display.HTML object>"
      ]
     },
     "metadata": {},
     "output_type": "display_data"
    },
    {
     "data": {
      "text/html": [
       "<a href='https://www.imdb.com/title/tt0114070'>tt0114070</a> Score: 0.018879951909184456<br/>"
      ],
      "text/plain": [
       "<IPython.core.display.HTML object>"
      ]
     },
     "metadata": {},
     "output_type": "display_data"
    },
    {
     "data": {
      "text/html": [
       "<i>Why a film maker with a track record like Wes Craven would want to lend his name to a tedious collection of cliches like this is anyone's guess. And if he did stump up any money for it - all of £50 judging by the looks - he should have been banging on the director's door for a refund the minute the film was released. There are many \"Alien\" rip-offs and this is one of the worst. Even the reliable Lance Henriksen, saddled with a character dumb enough to allow his kids to wander around a dangerous government lab, can't save it. As a cure for insomnia, this rates a 10+. As a piece of quality film making - forget it.</i><p/>"
      ],
      "text/plain": [
       "<IPython.core.display.HTML object>"
      ]
     },
     "metadata": {},
     "output_type": "display_data"
    }
   ],
   "source": [
    "display_movies(movie_scores[movie_scores.score <= 0.1].sample(2))"
   ]
  },
  {
   "cell_type": "code",
   "execution_count": null,
   "metadata": {},
   "outputs": [],
   "source": []
  }
 ],
 "metadata": {
  "kernelspec": {
   "display_name": "Python 3.6 - AzureML",
   "language": "python",
   "name": "python3-azureml"
  },
  "language_info": {
   "codemirror_mode": {
    "name": "ipython",
    "version": 3
   },
   "file_extension": ".py",
   "mimetype": "text/x-python",
   "name": "python",
   "nbconvert_exporter": "python",
   "pygments_lexer": "ipython3",
   "version": "3.5.5"
  }
 },
 "nbformat": 4,
 "nbformat_minor": 2
}

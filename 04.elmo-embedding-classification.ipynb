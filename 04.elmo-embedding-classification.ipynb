{
 "cells": [
  {
   "cell_type": "markdown",
   "metadata": {},
   "source": [
    "# ELMo Create Classifier From Embeddings"
   ]
  },
  {
   "cell_type": "code",
   "execution_count": 2,
   "metadata": {},
   "outputs": [],
   "source": [
    "import pandas as pd\n",
    "import numpy as np\n",
    "from xgboost import XGBClassifier\n",
    "from sklearn.metrics import roc_auc_score\n",
    "from IPython.core.display import HTML"
   ]
  },
  {
   "cell_type": "code",
   "execution_count": 3,
   "metadata": {},
   "outputs": [],
   "source": [
    "data_dir = \"data\""
   ]
  },
  {
   "cell_type": "code",
   "execution_count": 4,
   "metadata": {},
   "outputs": [],
   "source": [
    "imdb_data = pd.read_pickle(f\"{data_dir}/imdb_data_w_elmo_embedding.pickle.gz\")"
   ]
  },
  {
   "cell_type": "code",
   "execution_count": 5,
   "metadata": {},
   "outputs": [],
   "source": [
    "train = imdb_data[imdb_data.data_set == \"train\"]\n",
    "test  = imdb_data[imdb_data.data_set == \"test\"]"
   ]
  },
  {
   "cell_type": "code",
   "execution_count": 6,
   "metadata": {},
   "outputs": [],
   "source": [
    "def emb_to_ndarray(column):\n",
    "    return np.array([[cell for cell in row] for row in column])"
   ]
  },
  {
   "cell_type": "code",
   "execution_count": 7,
   "metadata": {},
   "outputs": [
    {
     "data": {
      "text/plain": [
       "XGBClassifier(base_score=0.5, booster='gbtree', colsample_bylevel=1,\n",
       "              colsample_bynode=1, colsample_bytree=1, gamma=0,\n",
       "              learning_rate=0.1, max_delta_step=0, max_depth=6,\n",
       "              min_child_weight=1, missing=None, n_estimators=100, n_jobs=1,\n",
       "              nthread=None, objective='binary:logistic', random_state=0,\n",
       "              reg_alpha=0, reg_lambda=1, scale_pos_weight=1, seed=None,\n",
       "              silent=None, subsample=1, verbosity=1)"
      ]
     },
     "execution_count": 7,
     "metadata": {},
     "output_type": "execute_result"
    }
   ],
   "source": [
    "xgb = XGBClassifier(max_depth=6)\n",
    "xgb.fit(emb_to_ndarray(train.embedding), train.polarity)"
   ]
  },
  {
   "cell_type": "code",
   "execution_count": 8,
   "metadata": {},
   "outputs": [
    {
     "name": "stdout",
     "output_type": "stream",
     "text": [
      "prediction auc of xgb is 0.7992428510264327.\n"
     ]
    }
   ],
   "source": [
    "predictions = xgb.predict_proba(emb_to_ndarray(test.embedding)) \n",
    "score = roc_auc_score(test.polarity, predictions[:,1])\n",
    "print(f'prediction auc of xgb is {score}.')"
   ]
  },
  {
   "cell_type": "markdown",
   "metadata": {},
   "source": [
    "## Look At Movies"
   ]
  },
  {
   "cell_type": "code",
   "execution_count": 9,
   "metadata": {},
   "outputs": [],
   "source": [
    "scores = xgb.predict_proba(emb_to_ndarray(imdb_data.embedding))\n",
    "imdb_data['score'] = scores[:,1]"
   ]
  },
  {
   "cell_type": "code",
   "execution_count": 10,
   "metadata": {},
   "outputs": [],
   "source": [
    "# Get the average positive sentiment propability by movie\n",
    "movie_scores = []\n",
    "for mid, df in imdb_data.groupby('movie_id'):\n",
    "    movie_scores.append({\n",
    "        'movie_id': mid,\n",
    "        'score': df.score.mean(),\n",
    "        'min_score': df.score.min(),\n",
    "        'max_score': df.score.max(),\n",
    "        'score_range': df.score.max() - df.score.min()\n",
    "    })    \n",
    "movie_scores = pd.DataFrame(movie_scores).sort_values(by='score', ascending=False)"
   ]
  },
  {
   "cell_type": "code",
   "execution_count": 11,
   "metadata": {},
   "outputs": [],
   "source": [
    "def display_movies(movie_scores):\n",
    "    for m in movie_scores.iterrows():\n",
    "        display(HTML(f\"<a href='https://www.imdb.com/title/{m[1].movie_id}'>{m[1].movie_id}</a> Score: {m[1].score}<br/>\"))\n",
    "        for s in imdb_data[imdb_data.movie_id == m[1].movie_id].sentence[0:2]:\n",
    "            display(HTML(f\"<i>{s}</i><p/>\"))"
   ]
  },
  {
   "cell_type": "code",
   "execution_count": 12,
   "metadata": {},
   "outputs": [
    {
     "data": {
      "text/html": [
       "<a href='https://www.imdb.com/title/tt0297512'>tt0297512</a> Score: 0.9908040761947632<br/>"
      ],
      "text/plain": [
       "<IPython.core.display.HTML object>"
      ]
     },
     "metadata": {},
     "output_type": "display_data"
    },
    {
     "data": {
      "text/html": [
       "<i>Leave it to Braik to put on a good show. Finally he and Zorak are living their own lives outside of Spac Ghost Coast To Coast. I have to say that I love both of these shows a whole lot. They are completely what started Adult Swim. Brak made it big with an album that came out in the year 2000. It may not have been platinum, but his show was really popular to tons of people out there that love Adult Swims shows. I have to say that out of all the Adult Swim shows with no plot, this has to be the one with the most none plot ever made. That is why I like it so much, it is just such a classic in the Adult Swim history. I believe this is just such a great show, if you don't like it. Hey there were tons who hated it and tons who loved it.</i><p/>"
      ],
      "text/plain": [
       "<IPython.core.display.HTML object>"
      ]
     },
     "metadata": {},
     "output_type": "display_data"
    },
    {
     "data": {
      "text/html": [
       "<a href='https://www.imdb.com/title/tt0284690'>tt0284690</a> Score: 0.9935925602912903<br/>"
      ],
      "text/plain": [
       "<IPython.core.display.HTML object>"
      ]
     },
     "metadata": {},
     "output_type": "display_data"
    },
    {
     "data": {
      "text/html": [
       "<i>One of the best movies I ever saw was an Irish movie titled Philadelphia,Here I Come. I read the play before I saw the movie and loved them both. It's the story of a young man preparing to leave Ireland to go to America because he can't earn a living in Ireland. It is told both from the perspective of the young man(whom the other characters in the film can see) and another young man representing his uncensored thoughts and feelings., but who cannot be seen by the other characters in the film. It is a very sad movie, but deeply touching, and I would recommend this film to anyone who wants something to think about. I love any Irish movie, or almost any movie about Ireland, and any film that has the late Irish actor Donal McCann in it gets my vote.I would watch that man chew gum for 2 hours on screen, and unfortunately,I have.Terrible shame to have lost him so young.</i><p/>"
      ],
      "text/plain": [
       "<IPython.core.display.HTML object>"
      ]
     },
     "metadata": {},
     "output_type": "display_data"
    }
   ],
   "source": [
    "display_movies(movie_scores[movie_scores.score >= 0.9].sample(2))"
   ]
  },
  {
   "cell_type": "code",
   "execution_count": 13,
   "metadata": {},
   "outputs": [
    {
     "data": {
      "text/html": [
       "<a href='https://www.imdb.com/title/tt0100502'>tt0100502</a> Score: 0.009989915415644646<br/>"
      ],
      "text/plain": [
       "<IPython.core.display.HTML object>"
      ]
     },
     "metadata": {},
     "output_type": "display_data"
    },
    {
     "data": {
      "text/html": [
       "<i>A pointless cash-in with nothing to contribute except nastiness, this is a definite case of sloppy seconds for Robocop. Irvin Kershner's numbing, plot less and tired mess of a sequel is watchable and even mildly entertaining in a dubious, unpleasantly trashy way, but it has virtually none of the original's flair, emotion, intelligence or excitement. Instead we have just another empty spectacle of a blockbuster whose only reason to exist seems to be to nauseate the viewer with relentless violence, which is far more brainlessly gratuitous than anything in the original. Omni Consumer Products, who made the original Robocop cyborg, have turned into more of a totalitarian force than ever second time round, what with the suspicious Nazi-esquire banners, stormtrooper guards and tanks for hire at the end; as for the anonymous Old Man (Daniel O' Herlihy), he's less of a benevolent protector and more of a hideous Mr. Burns type, surrounding himself with moronic lackeys who genuinely believe that putting the brain of a murderous psychopath into the body of the all-new Robocop 2 is a good idea. Oh, and the first Robocop gets a look in somewhere amidst all of this mess, though you wonder what on Earth a fine actor like Peter Weller saw in the script. The droll Tom Noonan has nothing to work with as the villain, while Nancy Allen is badly wasted as Robocop's partner. There are some hilarious moments throughout; the opening 'Magnavolt' commercial, for instance, but this is a poor follow-up to the truly great original.</i><p/>"
      ],
      "text/plain": [
       "<IPython.core.display.HTML object>"
      ]
     },
     "metadata": {},
     "output_type": "display_data"
    },
    {
     "data": {
      "text/html": [
       "<a href='https://www.imdb.com/title/tt0202321'>tt0202321</a> Score: 0.07942952960729599<br/>"
      ],
      "text/plain": [
       "<IPython.core.display.HTML object>"
      ]
     },
     "metadata": {},
     "output_type": "display_data"
    },
    {
     "data": {
      "text/html": [
       "<i>Some films are so badly made they are watchable purely for the cringe factor. Disciples made me cringe so much it was uncomfortable. I watched it all disbelieving what I was watching, wasn't anyone aware how bad this was whilst they were filming? Mix the most hammed performances from the most wooden actors, an abysmal script were every comment from all of the 'actors' sounded like it came from the same character and the most hurried editing that tried (and failed bigtime) to give the film a forced pace. All these combined into a film that will rob you of a few hours of your life and give nothing in return. Avoid at EVERY cost.</i><p/>"
      ],
      "text/plain": [
       "<IPython.core.display.HTML object>"
      ]
     },
     "metadata": {},
     "output_type": "display_data"
    }
   ],
   "source": [
    "display_movies(movie_scores[movie_scores.score <= 0.1].sample(2))"
   ]
  },
  {
   "cell_type": "code",
   "execution_count": null,
   "metadata": {},
   "outputs": [],
   "source": []
  }
 ],
 "metadata": {
  "kernelspec": {
   "display_name": "Python 3",
   "language": "python",
   "name": "python3"
  },
  "language_info": {
   "codemirror_mode": {
    "name": "ipython",
    "version": 3
   },
   "file_extension": ".py",
   "mimetype": "text/x-python",
   "name": "python",
   "nbconvert_exporter": "python",
   "pygments_lexer": "ipython3",
   "version": "3.7.2"
  }
 },
 "nbformat": 4,
 "nbformat_minor": 2
}

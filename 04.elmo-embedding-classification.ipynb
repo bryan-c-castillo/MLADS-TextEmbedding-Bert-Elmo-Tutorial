{
 "cells": [
  {
   "cell_type": "markdown",
   "metadata": {},
   "source": [
    "# Using ELMo Embeddings In Another Classifier\n",
    "\n",
    "This example uses the extracted ELMo text embedding values from the IMDB dataset as features for an XGBoost classifier."
   ]
  },
  {
   "cell_type": "code",
   "execution_count": 7,
   "metadata": {},
   "outputs": [],
   "source": [
    "import pandas as pd\n",
    "import numpy as np\n",
    "from xgboost import XGBClassifier\n",
    "from sklearn.metrics import roc_auc_score\n",
    "from IPython.core.display import HTML"
   ]
  },
  {
   "cell_type": "code",
   "execution_count": 8,
   "metadata": {},
   "outputs": [],
   "source": [
    "data_dir = \"data\""
   ]
  },
  {
   "cell_type": "markdown",
   "metadata": {},
   "source": [
    "## Load Data"
   ]
  },
  {
   "cell_type": "code",
   "execution_count": 9,
   "metadata": {},
   "outputs": [],
   "source": [
    "imdb_data = pd.read_pickle(\"{}/imdb_data_w_elmo_embedding.pickle.gz\".format(data_dir))"
   ]
  },
  {
   "cell_type": "code",
   "execution_count": 10,
   "metadata": {},
   "outputs": [],
   "source": [
    "train = imdb_data[imdb_data.data_set == \"train\"]\n",
    "test  = imdb_data[imdb_data.data_set == \"test\"]"
   ]
  },
  {
   "cell_type": "markdown",
   "metadata": {},
   "source": [
    "## Train Classifier"
   ]
  },
  {
   "cell_type": "code",
   "execution_count": 11,
   "metadata": {},
   "outputs": [],
   "source": [
    "# Utility to convert a column from a pandas dataframe into a multi-dimenstional numpy array.\n",
    "def emb_to_ndarray(column):\n",
    "    return np.array([[cell for cell in row] for row in column])"
   ]
  },
  {
   "cell_type": "code",
   "execution_count": 12,
   "metadata": {},
   "outputs": [
    {
     "data": {
      "text/plain": [
       "XGBClassifier(base_score=0.5, booster='gbtree', colsample_bylevel=1,\n",
       "       colsample_bynode=1, colsample_bytree=1, gamma=0, learning_rate=0.1,\n",
       "       max_delta_step=0, max_depth=6, min_child_weight=1, missing=None,\n",
       "       n_estimators=100, n_jobs=1, nthread=None,\n",
       "       objective='binary:logistic', random_state=0, reg_alpha=0,\n",
       "       reg_lambda=1, scale_pos_weight=1, seed=None, silent=None,\n",
       "       subsample=1, verbosity=1)"
      ]
     },
     "execution_count": 12,
     "metadata": {},
     "output_type": "execute_result"
    }
   ],
   "source": [
    "xgb = XGBClassifier(max_depth=6)\n",
    "xgb.fit(emb_to_ndarray(train.embedding), train.polarity)"
   ]
  },
  {
   "cell_type": "markdown",
   "metadata": {},
   "source": [
    "## Test Classifier"
   ]
  },
  {
   "cell_type": "code",
   "execution_count": 13,
   "metadata": {},
   "outputs": [
    {
     "name": "stdout",
     "output_type": "stream",
     "text": [
      "prediction auc of xgb is 0.7941429023365119.\n"
     ]
    }
   ],
   "source": [
    "predictions = xgb.predict_proba(emb_to_ndarray(test.embedding)) \n",
    "score = roc_auc_score(test.polarity, predictions[:,1])\n",
    "print('prediction auc of xgb is {}.'.format(score))"
   ]
  },
  {
   "cell_type": "markdown",
   "metadata": {},
   "source": [
    "## Look At Movies (for fun)\n",
    "\n",
    "Uses the positive probability for reviews as a way to rank movies."
   ]
  },
  {
   "cell_type": "code",
   "execution_count": 14,
   "metadata": {},
   "outputs": [],
   "source": [
    "scores = xgb.predict_proba(emb_to_ndarray(imdb_data.embedding))\n",
    "imdb_data['score'] = scores[:,1]"
   ]
  },
  {
   "cell_type": "code",
   "execution_count": 15,
   "metadata": {},
   "outputs": [],
   "source": [
    "# Get the average positive sentiment propability by movie\n",
    "movie_scores = []\n",
    "for mid, df in imdb_data.groupby('movie_id'):\n",
    "    movie_scores.append({\n",
    "        'movie_id': mid,\n",
    "        'score': df.score.mean(),\n",
    "        'min_score': df.score.min(),\n",
    "        'max_score': df.score.max(),\n",
    "        'score_range': df.score.max() - df.score.min()\n",
    "    })    \n",
    "movie_scores = pd.DataFrame(movie_scores).sort_values(by='score', ascending=False)"
   ]
  },
  {
   "cell_type": "code",
   "execution_count": 16,
   "metadata": {},
   "outputs": [],
   "source": [
    "def display_movies(movie_scores):\n",
    "    for m in movie_scores.iterrows():\n",
    "        display(HTML(\"<a href='https://www.imdb.com/title/{}'>{}</a> Score: {}<br/>\".format(\n",
    "            m[1].movie_id,\n",
    "            m[1].movie_id,\n",
    "            m[1].score\n",
    "        )))\n",
    "        for s in imdb_data[imdb_data.movie_id == m[1].movie_id].sentence[0:2]:\n",
    "            display(HTML(\"<i>{}</i><p/>\".format(s)))"
   ]
  },
  {
   "cell_type": "code",
   "execution_count": 17,
   "metadata": {},
   "outputs": [
    {
     "data": {
      "text/html": [
       "<a href='https://www.imdb.com/title/tt0077937'>tt0077937</a> Score: 0.9787119030952454<br/>"
      ],
      "text/plain": [
       "<IPython.core.display.HTML object>"
      ]
     },
     "metadata": {},
     "output_type": "display_data"
    },
    {
     "data": {
      "text/html": [
       "<i>This movie is pretty good. Half a year ago, i bought it on DVD. But first i thought that it was the original film. I have seen the series and it is a good film, but here, they have put \"The Living Legend,part1 and 2\",and \"Fire in space\" together. The same as they did with the first film, but with other episodes. But still, it is a pretty good film. Only the ending is strange (you don't see what happens with the Pegasus). But I still think that it is pretty good. The actors and special effects were good. If you haven't seen it, go see it. Starring:Richard Hatch, Dirk Benedict, Lorne Greene, Herb. Jefferson Jr., Tony Swartz, Terry Carter, Lloyd Bridges, Jack Stauffer.</i><p/>"
      ],
      "text/plain": [
       "<IPython.core.display.HTML object>"
      ]
     },
     "metadata": {},
     "output_type": "display_data"
    },
    {
     "data": {
      "text/html": [
       "<a href='https://www.imdb.com/title/tt0239020'>tt0239020</a> Score: 0.9862386584281921<br/>"
      ],
      "text/plain": [
       "<IPython.core.display.HTML object>"
      ]
     },
     "metadata": {},
     "output_type": "display_data"
    },
    {
     "data": {
      "text/html": [
       "<i>Tim Krabbe is the praised author of 'Het Gouden Ei', a novel that was put on the screen twice ('Spoorloos' and 'The Vanishing'). One of the Dutch writer's more recent works is 'De Grot', a psychological thriller about two totally different men, Egon and Axel, who meet at a youth camp and, surprising enough, become friends for dear life. Egon is a quiet, somewhat dull person, who spends his time studying and writing geography books. Axel, on the other hand, is a charismatic 'party-animal', a heavy drinking criminal whose everyday's concern is to get a woman into his bedroom. From the moment they meet, Axel has a strong influence on Egon, while the latter envies him because he has a good life without really doing anything (such as reading thick books like Egon); ultimately, Egon is even dragged by Egon into illegal practices himself, which leads to a fatal drug transport in a distant Asian country.<br /><br />After having read the book last year, I was surprised the critics were quite positive about it. In my opinion, the book suffers especially from the complex structure. While Krabbe presents the story as an absorbing portrait of an uncommon relationship between two people, the plot becomes more of a puzzle: the many episodes are not presented chronologically, so that two successive scenes are seldom in the same episode. Because of this, the story feels surprisingly remote: you often need to know a character's background to really care for him or her. Another complaint was the fact that the main characters, Egon and Axel, are a little stereotypical. Egon IS 'the' dull intellectual, while Axel IS his exact opposite. In real life, such one-dimensional people rarely exist; in books and films, they always seem to be there, taking away a lot of credibility.<br /><br />Despite all this, the film was a pleasant surprise, being much better than the book. The adaptation excels in its beautiful cinematography, humour and acting: Fedja van Huet (Egon) is one of the few Dutch actors who can make you forget he IS acting (which is, in my opinion, the highest an actor can achieve). The drawbacks of the film, however, are the same as the book's: mainly because the characters are one-dimensional, they are so predictable that it becomes annoying. Guess who wrote the script? Indeed, Krabbe himself. It is obvious that this talented director (that's what the movie makes clear anyway) is hampered by a deficient screenplay. Perhaps Koolhoven should just have chosen a better book.<br /><br />7/10</i><p/>"
      ],
      "text/plain": [
       "<IPython.core.display.HTML object>"
      ]
     },
     "metadata": {},
     "output_type": "display_data"
    }
   ],
   "source": [
    "display_movies(movie_scores[movie_scores.score >= 0.9].sample(2))"
   ]
  },
  {
   "cell_type": "code",
   "execution_count": 18,
   "metadata": {},
   "outputs": [
    {
     "data": {
      "text/html": [
       "<a href='https://www.imdb.com/title/tt0247804'>tt0247804</a> Score: 0.023404113948345184<br/>"
      ],
      "text/plain": [
       "<IPython.core.display.HTML object>"
      ]
     },
     "metadata": {},
     "output_type": "display_data"
    },
    {
     "data": {
      "text/html": [
       "<i>This is a bit of a first for me, the first time I have ever been disappointed in a Tim Burton film. POTA isn't a bad film (great sets, costumes and the odd great performance) but it could have been made by any off-the-shelf hollywood director. The pacing was very odd, the last third was just spent waiting for the film to end, by myself and the cast. Tim Roth was excellent, probably the only pleasure in the film. Come back Tim.</i><p/>"
      ],
      "text/plain": [
       "<IPython.core.display.HTML object>"
      ]
     },
     "metadata": {},
     "output_type": "display_data"
    },
    {
     "data": {
      "text/html": [
       "<a href='https://www.imdb.com/title/tt0327409'>tt0327409</a> Score: 0.015950685366988182<br/>"
      ],
      "text/plain": [
       "<IPython.core.display.HTML object>"
      ]
     },
     "metadata": {},
     "output_type": "display_data"
    },
    {
     "data": {
      "text/html": [
       "<i>With one of my very favorite actors, James Spader, I expected this film to be at least tolerable. It wasn't. After the first half hour I watched the rest of it with the remote control in my hand so the fast forward was at the ready. So trite, so standard, one knows what's going to happen in each scene. One can even predict the dialogue word for word. This is one of those movies that makes one scratch ones head and say, \"How did this movie ever get made?\" In an effort to say something positive, I'll add that there are some mildly entertaining special effects. But, on the whole, if you've seen 5 Sci/fi movies, or you are over 9 years old, do yourself a favor and skip this one.</i><p/>"
      ],
      "text/plain": [
       "<IPython.core.display.HTML object>"
      ]
     },
     "metadata": {},
     "output_type": "display_data"
    }
   ],
   "source": [
    "display_movies(movie_scores[movie_scores.score <= 0.1].sample(2))"
   ]
  },
  {
   "cell_type": "code",
   "execution_count": null,
   "metadata": {},
   "outputs": [],
   "source": []
  }
 ],
 "metadata": {
  "kernelspec": {
   "display_name": "Python 3.6 - AzureML",
   "language": "python",
   "name": "python3-azureml"
  },
  "language_info": {
   "codemirror_mode": {
    "name": "ipython",
    "version": 3
   },
   "file_extension": ".py",
   "mimetype": "text/x-python",
   "name": "python",
   "nbconvert_exporter": "python",
   "pygments_lexer": "ipython3",
   "version": "3.6.8"
  }
 },
 "nbformat": 4,
 "nbformat_minor": 2
}

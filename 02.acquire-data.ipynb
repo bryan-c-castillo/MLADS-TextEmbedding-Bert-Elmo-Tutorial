{
 "cells": [
  {
   "cell_type": "markdown",
   "metadata": {},
   "source": [
    "# Acquire IMDB Data\n",
    "\n",
    "1. Downloads IMDB movie reviews from ai.stanfor.edu\n",
    "2. Parses movie reviews from files.\n",
    "3. Saves a pickled data frame for the reviews.\n",
    "\n",
    "<u>Information About Data Set</u>\n",
    "\n",
    "<pre>\n",
    "@InProceedings{maas-EtAl:2011:ACL-HLT2011,\n",
    "  author    = {Maas, Andrew L.  and  Daly, Raymond E.  and  Pham, Peter T.  and  Huang, Dan  and  Ng, Andrew Y.  and  Potts, Christopher},\n",
    "  title     = {Learning Word Vectors for Sentiment Analysis},\n",
    "  booktitle = {Proceedings of the 49th Annual Meeting of the Association for Computational Linguistics: Human Language Technologies},\n",
    "  month     = {June},\n",
    "  year      = {2011},\n",
    "  address   = {Portland, Oregon, USA},\n",
    "  publisher = {Association for Computational Linguistics},\n",
    "  pages     = {142--150},\n",
    "  url       = {http://www.aclweb.org/anthology/P11-1015}\n",
    "}\n",
    "\n",
    "References\n",
    "\n",
    "Potts, Christopher. 2011. On the negativity of negation. In Nan Li and\n",
    "David Lutz, eds., Proceedings of Semantics and Linguistic Theory 20,\n",
    "636-659.\n",
    "\n",
    "Contact\n",
    "\n",
    "For questions/comments/corrections please contact Andrew Maas\n",
    "amaas@cs.stanford.edu\n",
    "</pre>"
   ]
  },
  {
   "cell_type": "code",
   "execution_count": 2,
   "metadata": {},
   "outputs": [],
   "source": [
    "import os\n",
    "import re\n",
    "import urllib.request\n",
    "import tarfile\n",
    "import re\n",
    "import pandas as pd"
   ]
  },
  {
   "cell_type": "code",
   "execution_count": 3,
   "metadata": {},
   "outputs": [],
   "source": [
    "data_dir = \"data\"\n",
    "if not os.path.isdir(data_dir):\n",
    "    os.makedirs(data_dir)"
   ]
  },
  {
   "cell_type": "code",
   "execution_count": 7,
   "metadata": {},
   "outputs": [],
   "source": [
    "imdb_data_url  = \"http://ai.stanford.edu/~amaas/data/sentiment/aclImdb_v1.tar.gz\"\n",
    "imdb_data_file = f\"{data_dir}/aclImdb_v1.tar.gz\"\n",
    "\n",
    "def read_urls_file(tf, name):\n",
    "    m = tf.getmember(name)\n",
    "    with tf.extractfile(m) as fh:\n",
    "        content = fh.read().decode('utf-8')\n",
    "    return [line.split(\"/\")[4] for line in content.split(\"\\n\") if len(line) > 0]\n",
    "\n",
    "def create_movie_id_lookup(tf):\n",
    "    movie_id_lookup = {}\n",
    "    for data_set in ['test', 'train']:\n",
    "        for label in ['pos', 'neg']:\n",
    "            entry = f\"aclImdb/{data_set}/urls_{label}.txt\"\n",
    "            ids = read_urls_file(tf, entry)\n",
    "            for i in range(len(ids)):\n",
    "                movie_id_lookup[(data_set, label, i)] = ids[i]\n",
    "    return movie_id_lookup\n",
    "\n",
    "def read_imdb_data():\n",
    "    member_re = re.compile(r\"aclImdb/(test|train)/(pos|neg)/(\\d+)_(\\d+)\\.txt\")\n",
    "    data = []\n",
    "    with tarfile.open(imdb_data_file, \"r\") as tf:\n",
    "        movie_id_lookup = create_movie_id_lookup(tf)\n",
    "        for member in tf.getmembers():\n",
    "            if member.isfile():\n",
    "                m = member_re.match(member.name)\n",
    "                if m:\n",
    "                    data_set = m.group(1)\n",
    "                    label = m.group(2)\n",
    "                    row_id = int(m.group(3))\n",
    "                    polarity = 1 if label == \"pos\" else 0\n",
    "                    movie_id = movie_id_lookup[(data_set, label, row_id)]\n",
    "                    with tf.extractfile(member) as fh:\n",
    "                        content = fh.read().decode('utf-8')\n",
    "                    data.append([data_set, polarity, content, movie_id])\n",
    "    return pd.DataFrame(data=data, columns=['data_set', 'polarity', 'sentence', 'movie_id'])\n",
    "\n",
    "def load_imdb_data():\n",
    "    if not os.path.isfile(imdb_data_file):\n",
    "        print(f\"Downloading: {imdb_data_url}\")\n",
    "        urllib.request.urlretrieve(imdb_data_url, imdb_data_file)\n",
    "    return read_imdb_data()\n",
    "\n",
    "imdb_data = load_imdb_data()"
   ]
  },
  {
   "cell_type": "code",
   "execution_count": 8,
   "metadata": {},
   "outputs": [],
   "source": [
    "imdb_data.to_pickle(f\"{data_dir}/imdb_data.pickle.gz\")"
   ]
  },
  {
   "cell_type": "code",
   "execution_count": null,
   "metadata": {},
   "outputs": [],
   "source": []
  }
 ],
 "metadata": {
  "kernelspec": {
   "display_name": "Python 3.6 - AzureML",
   "language": "python",
   "name": "python3-azureml"
  },
  "language_info": {
   "codemirror_mode": {
    "name": "ipython",
    "version": 3
   },
   "file_extension": ".py",
   "mimetype": "text/x-python",
   "name": "python",
   "nbconvert_exporter": "python",
   "pygments_lexer": "ipython3",
   "version": "3.6.8"
  }
 },
 "nbformat": 4,
 "nbformat_minor": 2
}

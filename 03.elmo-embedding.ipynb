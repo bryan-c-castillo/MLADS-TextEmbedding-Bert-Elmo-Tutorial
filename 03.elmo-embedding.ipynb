{
 "cells": [
  {
   "cell_type": "markdown",
   "metadata": {},
   "source": [
    "# ELMo\n",
    "\n",
    "Retrieves sentence embedding values for movie reviews from a move review dataset using a pre-trained ELMo model."
   ]
  },
  {
   "cell_type": "code",
   "execution_count": 1,
   "metadata": {},
   "outputs": [
    {
     "name": "stderr",
     "output_type": "stream",
     "text": [
      "WARNING: Logging before flag parsing goes to stderr.\n",
      "W0606 22:28:29.040401 140706603112192 __init__.py:56] Some hub symbols are not available because TensorFlow version is less than 1.14\n"
     ]
    }
   ],
   "source": [
    "import pandas as pd\n",
    "import numpy as np\n",
    "import spacy\n",
    "import re\n",
    "import time\n",
    "import tensorflow as tf\n",
    "import tensorflow_hub as hub\n",
    "from datetime import datetime"
   ]
  },
  {
   "cell_type": "code",
   "execution_count": 2,
   "metadata": {},
   "outputs": [],
   "source": [
    "pd.set_option('display.max_colwidth', 200)\n",
    "tf.logging.set_verbosity(tf.logging.WARN)"
   ]
  },
  {
   "cell_type": "code",
   "execution_count": 3,
   "metadata": {},
   "outputs": [],
   "source": [
    "data_dir = \"data\""
   ]
  },
  {
   "cell_type": "markdown",
   "metadata": {},
   "source": [
    "## Load IMDB Data"
   ]
  },
  {
   "cell_type": "code",
   "execution_count": 5,
   "metadata": {},
   "outputs": [],
   "source": [
    "imdb_data = pd.read_pickle(\"{}/imdb_data.pickle.gz\".format(data_dir))"
   ]
  },
  {
   "cell_type": "code",
   "execution_count": 6,
   "metadata": {},
   "outputs": [
    {
     "data": {
      "text/html": [
       "<div>\n",
       "<style scoped>\n",
       "    .dataframe tbody tr th:only-of-type {\n",
       "        vertical-align: middle;\n",
       "    }\n",
       "\n",
       "    .dataframe tbody tr th {\n",
       "        vertical-align: top;\n",
       "    }\n",
       "\n",
       "    .dataframe thead th {\n",
       "        text-align: right;\n",
       "    }\n",
       "</style>\n",
       "<table border=\"1\" class=\"dataframe\">\n",
       "  <thead>\n",
       "    <tr style=\"text-align: right;\">\n",
       "      <th></th>\n",
       "      <th>data_set</th>\n",
       "      <th>polarity</th>\n",
       "      <th>sentence</th>\n",
       "      <th>movie_id</th>\n",
       "    </tr>\n",
       "  </thead>\n",
       "  <tbody>\n",
       "    <tr>\n",
       "      <th>4271</th>\n",
       "      <td>test</td>\n",
       "      <td>0</td>\n",
       "      <td>Poorly acted, poorly written and poorly directed. Special effects are cheap. Best performance is by Yvette Napir, but that's not saying much. Story is a confusing mess about corporate greed leadin...</td>\n",
       "      <td>tt0323491</td>\n",
       "    </tr>\n",
       "    <tr>\n",
       "      <th>15511</th>\n",
       "      <td>test</td>\n",
       "      <td>1</td>\n",
       "      <td>I would give this television series a 10 plus if i could. The writers were \"smack on\" and I think the best actors and actresses were a bonus to the show.These characters were so real. One could te...</td>\n",
       "      <td>tt0161233</td>\n",
       "    </tr>\n",
       "  </tbody>\n",
       "</table>\n",
       "</div>"
      ],
      "text/plain": [
       "      data_set  polarity  \\\n",
       "4271      test         0   \n",
       "15511     test         1   \n",
       "\n",
       "                                                                                                                                                                                                      sentence  \\\n",
       "4271   Poorly acted, poorly written and poorly directed. Special effects are cheap. Best performance is by Yvette Napir, but that's not saying much. Story is a confusing mess about corporate greed leadin...   \n",
       "15511  I would give this television series a 10 plus if i could. The writers were \"smack on\" and I think the best actors and actresses were a bonus to the show.These characters were so real. One could te...   \n",
       "\n",
       "        movie_id  \n",
       "4271   tt0323491  \n",
       "15511  tt0161233  "
      ]
     },
     "execution_count": 6,
     "metadata": {},
     "output_type": "execute_result"
    }
   ],
   "source": [
    "imdb_data.sample(2)"
   ]
  },
  {
   "cell_type": "markdown",
   "metadata": {},
   "source": [
    "Retrieving the text embedding for all samples may take a long time.\n",
    "For demo purposes it is useful to limit the size."
   ]
  },
  {
   "cell_type": "code",
   "execution_count": 7,
   "metadata": {},
   "outputs": [],
   "source": [
    "imdb_data = imdb_data.sample(800)"
   ]
  },
  {
   "cell_type": "markdown",
   "metadata": {},
   "source": [
    "## Cleaning Text\n",
    "\n",
    "Before retrieving the text embeddings the reviews are cleaned up and limited in length to speed up processing.\n",
    "\n",
    "This code is a little more complex to handle running on Windows where spacy doesn't seem to work for downloading the en corpus."
   ]
  },
  {
   "cell_type": "code",
   "execution_count": 8,
   "metadata": {},
   "outputs": [],
   "source": [
    "max_words = 128\n",
    "\n",
    "text_http_re  = re.compile(r'http\\S+')\n",
    "text_digit_re = re.compile(r'[0-9]')\n",
    "text_html_re  = re.compile(r'<[^>]{0,20}>')\n",
    "text_punc_re  = re.compile('[' + re.escape('\\'!\"#$%&()*+-/:;<=>?@[\\\\]^_`{|}~') + ']')\n",
    "text_ws_re    = re.compile('\\s+')\n",
    "\n",
    "def clean_text(text):\n",
    "    text = text.lower()\n",
    "    text = text_http_re.sub('', text)\n",
    "    text = text_html_re.sub('', text)\n",
    "    text = text_digit_re.sub(' ', text)\n",
    "    text = text_punc_re.sub('', text)\n",
    "    text = text_ws_re.sub(' ', text)\n",
    "    text = text.strip()\n",
    "    return text\n",
    "\n",
    "def create_lemmatizer_spacy():\n",
    "    nlp = spacy.load('en', disable=['parser', 'ner'])\n",
    "    def lemmatize(text):\n",
    "        return ' '.join([token.lemma_ for token in nlp(text)][0:max_words])\n",
    "    \n",
    "    return lemmatize\n",
    "\n",
    "def create_lemmatizer_nltk():\n",
    "    from nltk.stem import WordNetLemmatizer \n",
    "    lemmatizer = WordNetLemmatizer()\n",
    "    \n",
    "    def lemmatize(text):\n",
    "        return ' '.join([lemmatizer.lemmatize(w) for w in text.split()][0:max_words])\n",
    "    \n",
    "    return lemmatize\n",
    "\n",
    "# Setup a lemmatize function, spacy.load may fail on windows for en.\n",
    "try:\n",
    "    lemmatize = create_lemmatizer_spacy()\n",
    "except:\n",
    "    print(\"Using nltk for lemmatization.\")\n",
    "    lemmatize = create_lemmatizer_nltk()\n",
    "            \n",
    "def process_text(text):\n",
    "    return lemmatize(clean_text(text))"
   ]
  },
  {
   "cell_type": "code",
   "execution_count": 9,
   "metadata": {},
   "outputs": [],
   "source": [
    "imdb_data['clean_review'] = imdb_data.sentence.apply(process_text)"
   ]
  },
  {
   "cell_type": "markdown",
   "metadata": {},
   "source": [
    "## Extract ELMo Embeddings"
   ]
  },
  {
   "cell_type": "code",
   "execution_count": 11,
   "metadata": {},
   "outputs": [
    {
     "name": "stdout",
     "output_type": "stream",
     "text": [
      "WARNING:tensorflow:From /anaconda/envs/py36/lib/python3.6/site-packages/tensorflow/python/ops/control_flow_ops.py:3632: colocate_with (from tensorflow.python.framework.ops) is deprecated and will be removed in a future version.\n",
      "Instructions for updating:\n",
      "Colocations handled automatically by placer.\n"
     ]
    },
    {
     "name": "stderr",
     "output_type": "stream",
     "text": [
      "W0606 22:41:32.518659 140706603112192 deprecation.py:323] From /anaconda/envs/py36/lib/python3.6/site-packages/tensorflow/python/ops/control_flow_ops.py:3632: colocate_with (from tensorflow.python.framework.ops) is deprecated and will be removed in a future version.\n",
      "Instructions for updating:\n",
      "Colocations handled automatically by placer.\n"
     ]
    }
   ],
   "source": [
    "# Utility function to break sentences into batches.\n",
    "# Passing in a single large batch can run into memory issues, but passing 1 at a time can slow down the overall process.\n",
    "def batches(sentences, batch_size):\n",
    "    results = []\n",
    "    chunk = []\n",
    "    for s in sentences:\n",
    "        chunk.append(s)\n",
    "        if len(chunk) >= batch_size:\n",
    "            yield(chunk)\n",
    "            chunk = []\n",
    "    if len(chunk) > 0:\n",
    "        yield(chunk)\n",
    "\n",
    "def elmo_create_embedding_extractor(module, batch_size=20):\n",
    "    with tf.Graph().as_default():\n",
    "        sentences = tf.placeholder(tf.string)\n",
    "        embed = hub.Module(module, trainable=True)\n",
    "        embeddings = embed(sentences)\n",
    "        session = tf.train.MonitoredSession()\n",
    "        \n",
    "    def extract(_sentences):\n",
    "        results = []\n",
    "        for s_batch in batches(_sentences, batch_size):\n",
    "            results.extend(session.run(embeddings, { sentences: s_batch }))\n",
    "            print(\"[{}] Extracted {}\".format(datetime.now(), len(results)))\n",
    "        return results\n",
    "\n",
    "    return extract\n",
    "\n",
    "elmo_get_embedding = elmo_create_embedding_extractor(\"https://tfhub.dev/google/elmo/2\", 100)"
   ]
  },
  {
   "cell_type": "code",
   "execution_count": null,
   "metadata": {},
   "outputs": [
    {
     "name": "stdout",
     "output_type": "stream",
     "text": [
      "[2019-06-06 22:44:06.130025] Extracted 100\n",
      "[2019-06-06 22:44:16.655238] Extracted 200\n",
      "[2019-06-06 22:44:27.226981] Extracted 300\n",
      "[2019-06-06 22:44:37.887041] Extracted 400\n",
      "[2019-06-06 22:44:48.439659] Extracted 500\n",
      "[2019-06-06 22:44:59.009956] Extracted 600\n"
     ]
    }
   ],
   "source": [
    "current_time = datetime.now()\n",
    "imdb_data['embedding'] = elmo_get_embedding(imdb_data.clean_review.values)\n",
    "print(\"Extraction took time \", datetime.now() - current_time)"
   ]
  },
  {
   "cell_type": "markdown",
   "metadata": {},
   "source": [
    "## Save embedding values to disk."
   ]
  },
  {
   "cell_type": "code",
   "execution_count": 11,
   "metadata": {},
   "outputs": [],
   "source": [
    "imdb_data.to_pickle(\"{}/imdb_data_w_elmo_embedding.pickle.gz\".format(data_dir))"
   ]
  },
  {
   "cell_type": "code",
   "execution_count": null,
   "metadata": {},
   "outputs": [],
   "source": []
  }
 ],
 "metadata": {
  "kernelspec": {
   "display_name": "Python 3.6 - AzureML",
   "language": "python",
   "name": "python3-azureml"
  },
  "language_info": {
   "codemirror_mode": {
    "name": "ipython",
    "version": 3
   },
   "file_extension": ".py",
   "mimetype": "text/x-python",
   "name": "python",
   "nbconvert_exporter": "python",
   "pygments_lexer": "ipython3",
   "version": "3.6.8"
  }
 },
 "nbformat": 4,
 "nbformat_minor": 2
}

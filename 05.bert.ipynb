{
 "cells": [
  {
   "cell_type": "markdown",
   "metadata": {},
   "source": [
    "# Bert Classification"
   ]
  },
  {
   "cell_type": "code",
   "execution_count": 15,
   "metadata": {},
   "outputs": [],
   "source": [
    "from datetime import datetime\n",
    "import os\n",
    "\n",
    "import pandas as pd\n",
    "import numpy as np\n",
    "from sklearn.model_selection import train_test_split\n",
    "import pandas as pd\n",
    "import tensorflow as tf"
   ]
  },
  {
   "cell_type": "markdown",
   "metadata": {},
   "source": [
    "## Configuration"
   ]
  },
  {
   "cell_type": "code",
   "execution_count": 16,
   "metadata": {},
   "outputs": [],
   "source": [
    "data_dir = \"data\""
   ]
  },
  {
   "cell_type": "code",
   "execution_count": 17,
   "metadata": {},
   "outputs": [],
   "source": [
    "tf.logging.set_verbosity(tf.logging.ERROR)"
   ]
  },
  {
   "cell_type": "markdown",
   "metadata": {},
   "source": [
    "## Load Data"
   ]
  },
  {
   "cell_type": "code",
   "execution_count": 18,
   "metadata": {},
   "outputs": [],
   "source": [
    "imdb_data = pd.read_pickle(f\"{data_dir}/imdb_data.pickle.gz\")"
   ]
  },
  {
   "cell_type": "code",
   "execution_count": 19,
   "metadata": {},
   "outputs": [],
   "source": [
    "sample_size = 1000\n",
    "seed = 11989\n",
    "\n",
    "train = imdb_data[imdb_data.data_set.str.lower() == 'train'].sample(sample_size, random_state = seed)\n",
    "test = imdb_data[imdb_data.data_set.str.lower() == 'test'].sample(sample_size, random_state = seed*2)"
   ]
  },
  {
   "cell_type": "code",
   "execution_count": 20,
   "metadata": {},
   "outputs": [
    {
     "name": "stdout",
     "output_type": "stream",
     "text": [
      "Training size: 1000\n",
      "Testing size: 1000\n"
     ]
    }
   ],
   "source": [
    "print(\"Training size: {}\".format(len(train)))\n",
    "print(\"Testing size: {}\".format(len(test)))"
   ]
  },
  {
   "cell_type": "markdown",
   "metadata": {},
   "source": [
    "## Setup Bert"
   ]
  },
  {
   "cell_type": "code",
   "execution_count": 21,
   "metadata": {},
   "outputs": [],
   "source": [
    "from bert_classifier import *"
   ]
  },
  {
   "cell_type": "code",
   "execution_count": 22,
   "metadata": {},
   "outputs": [],
   "source": [
    "bc = BertClassifier(data_column='sentence', label_column='polarity')"
   ]
  },
  {
   "cell_type": "code",
   "execution_count": 23,
   "metadata": {},
   "outputs": [
    {
     "data": {
      "text/plain": [
       "{'bert_url': 'https://tfhub.dev/google/bert_uncased_L-12_H-768_A-12/1',\n",
    "        'output_dir': 'data/output',\n",
       " 'data_column': 'sentence',\n",
       " 'label_column': 'polarity',\n",
    "        'max_seq_length': 128,\n",
       " 'label_values': None,\n",
       " 'batch_size': 32,\n",
       " 'learning_rate': 2e-05,\n",
       " 'num_train_epochs': 3.0,\n",
       " 'warmup_proportion': 0.1,\n",
       " 'save_checkpoints_steps': 500,\n",
       " 'save_summary_steps': 100}"
      ]
     },
     "execution_count": 23,
     "metadata": {},
     "output_type": "execute_result"
    }
   ],
   "source": [
    "bc.config"
   ]
  },
  {
   "cell_type": "code",
   "execution_count": 24,
   "metadata": {},
   "outputs": [
    {
     "name": "stdout",
     "output_type": "stream",
     "text": [
      "Training time: 0:00:08.629046\n"
     ]
    }
   ],
   "source": [
    "start = datetime.now()\n",
    "bc.train(train)\n",
    "et = datetime.now() - start\n",
    "print(\"Training time: {}\".format(et))"
   ]
  },
  {
   "cell_type": "code",
   "execution_count": 25,
   "metadata": {},
   "outputs": [
    {
     "name": "stderr",
     "output_type": "stream",
     "text": [
      "/anaconda/envs/py36/lib/python3.6/site-packages/tensorflow/python/ops/gradients_impl.py:110: UserWarning: Converting sparse IndexedSlices to a dense Tensor of unknown shape. This may consume a large amount of memory.\n",
      "  \"Converting sparse IndexedSlices to a dense Tensor of unknown shape. \"\n"
      ]
     },
    {
     "name": "stdout",
     "output_type": "stream",
     "text": [
      "Test time: 0:05:22.605909\n",
      "Results:\n",
      "auc                  0.873093\n",
      "eval_accuracy        0.873000\n",
      "f1_score             0.874877\n",
      "false_negatives     67.000000\n",
      "false_positives     60.000000\n",
      "global_step        468.000000\n",
      "loss                 0.441786\n",
      "precision            0.880952\n",
      "recall               0.868885\n",
      "true_negatives     429.000000\n",
      "true_positives     444.000000\n",
      "Name: 0, dtype: float64\n"
     ]
    }
   ],
   "source": [
    "start = datetime.now()\n",
    "results = bc.test(test)\n",
    "et = datetime.now() - start\n",
    "print(\"Test time: {}\".format(et))\n",
    "print(\"Results:\")\n",
    "print(pd.DataFrame([results]).iloc[0])"
   ]
  },
  {
   "cell_type": "code",
   "execution_count": 26,
   "metadata": {},
   "outputs": [
    {
     "name": "stdout",
     "output_type": "stream",
     "text": [
      "Prediction time: 0:05:11.126579\n"
     ]
    }
   ],
   "source": [
    "start = datetime.now()\n",
    "predictions = bc.predict(test)\n",
    "et = datetime.now() - start\n",
    "print(\"Prediction time: {}\".format(et))"
   ]
  },
  {
   "cell_type": "code",
   "execution_count": 27,
   "metadata": {},
   "outputs": [
    {
     "data": {
      "text/html": [
       "<div>\n",
       "<style scoped>\n",
       "    .dataframe tbody tr th:only-of-type {\n",
       "        vertical-align: middle;\n",
       "    }\n",
       "\n",
       "    .dataframe tbody tr th {\n",
       "        vertical-align: top;\n",
       "    }\n",
       "\n",
       "    .dataframe thead th {\n",
       "        text-align: right;\n",
       "    }\n",
       "</style>\n",
       "<table border=\"1\" class=\"dataframe\">\n",
       "  <thead>\n",
       "    <tr style=\"text-align: right;\">\n",
       "      <th></th>\n",
       "      <th>polarity</th>\n",
       "      <th>probabilities</th>\n",
       "      <th>sentence</th>\n",
       "    </tr>\n",
       "  </thead>\n",
       "  <tbody>\n",
       "    <tr>\n",
       "      <th>0</th>\n",
       "      <td>0</td>\n",
       "      <td>{0: 0.7381339, 1: 0.26186618}</td>\n",
       "      <td>As I sit and think about Poison for the Fairie...</td>\n",
       "    </tr>\n",
       "    <tr>\n",
       "      <th>1</th>\n",
       "      <td>0</td>\n",
       "      <td>{0: 0.8665315, 1: 0.13346854}</td>\n",
       "      <td>First of all, it is interesting to note that o...</td>\n",
       "    </tr>\n",
       "    <tr>\n",
       "      <th>2</th>\n",
       "      <td>1</td>\n",
       "      <td>{0: 0.012707621, 1: 0.9872924}</td>\n",
       "      <td>This series has recently been unearthed and ex...</td>\n",
       "    </tr>\n",
       "    <tr>\n",
       "      <th>3</th>\n",
       "      <td>0</td>\n",
       "      <td>{0: 0.9968266, 1: 0.0031734183}</td>\n",
       "      <td>Oh, the horror, the unspeakable horror of this...</td>\n",
       "    </tr>\n",
       "    <tr>\n",
       "      <th>4</th>\n",
       "      <td>1</td>\n",
       "      <td>{0: 0.0076506557, 1: 0.9923494}</td>\n",
       "      <td>Why this film was only released in 4 states is...</td>\n",
       "    </tr>\n",
       "    <tr>\n",
       "      <th>5</th>\n",
       "      <td>0</td>\n",
       "      <td>{0: 0.87304544, 1: 0.12695454}</td>\n",
       "      <td>The use of \"astral projection\"(wandering soul)...</td>\n",
       "    </tr>\n",
       "    <tr>\n",
       "      <th>6</th>\n",
       "      <td>0</td>\n",
       "      <td>{0: 0.99695075, 1: 0.0030492153}</td>\n",
       "      <td>This movie is not very bad tjough. But one can...</td>\n",
       "    </tr>\n",
       "    <tr>\n",
       "      <th>7</th>\n",
       "      <td>1</td>\n",
       "      <td>{0: 0.012144838, 1: 0.98785514}</td>\n",
       "      <td>Based on its current IMDb rating as well as se...</td>\n",
       "    </tr>\n",
       "    <tr>\n",
       "      <th>8</th>\n",
       "      <td>0</td>\n",
       "      <td>{0: 0.9964149, 1: 0.003585108}</td>\n",
       "      <td>That was one of the worst movies I've ever see...</td>\n",
       "    </tr>\n",
       "    <tr>\n",
       "      <th>9</th>\n",
       "      <td>0</td>\n",
       "      <td>{0: 0.9970387, 1: 0.002961272}</td>\n",
       "      <td>I'd never heard of zero budget \"auteur\" Neil J...</td>\n",
       "    </tr>\n",
       "  </tbody>\n",
       "</table>\n",
       "</div>"
      ],
      "text/plain": [
       "   polarity                     probabilities  \\\n",
       "0         0     {0: 0.7381339, 1: 0.26186618}   \n",
       "1         0     {0: 0.8665315, 1: 0.13346854}   \n",
       "2         1    {0: 0.012707621, 1: 0.9872924}   \n",
       "3         0   {0: 0.9968266, 1: 0.0031734183}   \n",
       "4         1   {0: 0.0076506557, 1: 0.9923494}   \n",
       "5         0    {0: 0.87304544, 1: 0.12695454}   \n",
       "6         0  {0: 0.99695075, 1: 0.0030492153}   \n",
       "7         1   {0: 0.012144838, 1: 0.98785514}   \n",
       "8         0    {0: 0.9964149, 1: 0.003585108}   \n",
       "9         0    {0: 0.9970387, 1: 0.002961272}   \n",
       "\n",
       "                                            sentence  \n",
       "0  As I sit and think about Poison for the Fairie...  \n",
       "1  First of all, it is interesting to note that o...  \n",
       "2  This series has recently been unearthed and ex...  \n",
       "3  Oh, the horror, the unspeakable horror of this...  \n",
       "4  Why this film was only released in 4 states is...  \n",
       "5  The use of \"astral projection\"(wandering soul)...  \n",
       "6  This movie is not very bad tjough. But one can...  \n",
       "7  Based on its current IMDb rating as well as se...  \n",
       "8  That was one of the worst movies I've ever see...  \n",
       "9  I'd never heard of zero budget \"auteur\" Neil J...  "
      ]
  },
     "execution_count": 27,
   "metadata": {},
     "output_type": "execute_result"
    }
   ],
   "source": [
    "pd.DataFrame(predictions)[0:10]"
   ]
  },
  {
   "cell_type": "code",
   "execution_count": null,
   "metadata": {},
   "outputs": [],
   "source": []
  }
 ],
 "metadata": {
  "kernelspec": {
   "display_name": "Python 3.6 - AzureML",
   "language": "python",
   "name": "python3-azureml"
  },
  "language_info": {
   "codemirror_mode": {
    "name": "ipython",
    "version": 3
   },
   "file_extension": ".py",
   "mimetype": "text/x-python",
   "name": "python",
   "nbconvert_exporter": "python",
   "pygments_lexer": "ipython3",
   "version": "3.6.8"
  }
 },
 "nbformat": 4,
 "nbformat_minor": 2
}

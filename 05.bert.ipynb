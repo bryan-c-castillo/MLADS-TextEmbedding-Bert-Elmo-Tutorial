{
 "cells": [
  {
   "cell_type": "markdown",
   "metadata": {},
   "source": [
    "# Bert Classification\n",
    "\n",
    "Uses Bert to classify movie reviews. This example adds classification as a layer to the pre-trained Bert model."
   ]
  },
  {
   "cell_type": "code",
   "execution_count": 1,
   "metadata": {},
   "outputs": [],
   "source": [
    "from datetime import datetime\n",
    "import os\n",
    "\n",
    "import pandas as pd\n",
    "import numpy as np\n",
    "from sklearn.model_selection import train_test_split\n",
    "import pandas as pd\n",
    "import tensorflow as tf"
   ]
  },
  {
   "cell_type": "markdown",
   "metadata": {},
   "source": [
    "## Configuration"
   ]
  },
  {
   "cell_type": "code",
   "execution_count": 2,
   "metadata": {},
   "outputs": [],
   "source": [
    "data_dir = \"data\""
   ]
  },
  {
   "cell_type": "code",
   "execution_count": 3,
   "metadata": {},
   "outputs": [],
   "source": [
    "tf.logging.set_verbosity(tf.logging.ERROR)"
   ]
  },
  {
   "cell_type": "markdown",
   "metadata": {},
   "source": [
    "## Load Data"
   ]
  },
  {
   "cell_type": "code",
   "execution_count": 4,
   "metadata": {},
   "outputs": [],
   "source": [
    "imdb_data = pd.read_pickle(f\"{data_dir}/imdb_data.pickle.gz\")"
   ]
  },
  {
   "cell_type": "code",
   "execution_count": 5,
   "metadata": {},
   "outputs": [],
   "source": [
    "sample_size = 100\n",
    "seed = 11989\n",
    "\n",
    "train = imdb_data[imdb_data.data_set.str.lower() == 'train'].sample(sample_size, random_state = seed)\n",
    "test = imdb_data[imdb_data.data_set.str.lower() == 'test'].sample(sample_size, random_state = seed*2)"
   ]
  },
  {
   "cell_type": "code",
   "execution_count": 6,
   "metadata": {},
   "outputs": [
    {
     "name": "stdout",
     "output_type": "stream",
     "text": [
      "Training size: 100\n",
      "Testing size: 100\n"
     ]
    }
   ],
   "source": [
    "print(\"Training size: {}\".format(len(train)))\n",
    "print(\"Testing size: {}\".format(len(test)))"
   ]
  },
  {
   "cell_type": "markdown",
   "metadata": {},
   "source": [
    "## Setup Bert"
   ]
  },
  {
   "cell_type": "code",
   "execution_count": 7,
   "metadata": {},
   "outputs": [
    {
     "name": "stderr",
     "output_type": "stream",
     "text": [
      "WARNING: Logging before flag parsing goes to stderr.\n",
      "W0606 21:07:26.793935 139947718018816 __init__.py:56] Some hub symbols are not available because TensorFlow version is less than 1.14\n"
     ]
    }
   ],
   "source": [
    "from bert_classifier import *"
   ]
  },
  {
   "cell_type": "code",
   "execution_count": 8,
   "metadata": {},
   "outputs": [],
   "source": [
    "bc = BertClassifier(data_column='sentence', label_column='polarity')"
   ]
  },
  {
   "cell_type": "code",
   "execution_count": 9,
   "metadata": {},
   "outputs": [
    {
     "data": {
      "text/plain": [
       "{'bert_url': 'https://tfhub.dev/google/bert_uncased_L-12_H-768_A-12/1',\n",
       " 'output_dir': 'data/output',\n",
       " 'data_column': 'sentence',\n",
       " 'label_column': 'polarity',\n",
       " 'max_seq_length': 128,\n",
       " 'label_values': None,\n",
       " 'batch_size': 32,\n",
       " 'learning_rate': 2e-05,\n",
       " 'num_train_epochs': 3.0,\n",
       " 'warmup_proportion': 0.1,\n",
       " 'save_checkpoints_steps': 500,\n",
       " 'save_summary_steps': 100}"
      ]
     },
     "execution_count": 9,
     "metadata": {},
     "output_type": "execute_result"
    }
   ],
   "source": [
    "bc.config"
   ]
  },
  {
   "cell_type": "code",
   "execution_count": 10,
   "metadata": {},
   "outputs": [
    {
     "name": "stdout",
     "output_type": "stream",
     "text": [
      "Training time: 0:00:10.393154\n"
     ]
    }
   ],
   "source": [
    "start = datetime.now()\n",
    "bc.train(train)\n",
    "et = datetime.now() - start\n",
    "print(\"Training time: {}\".format(et))"
   ]
  },
  {
   "cell_type": "code",
   "execution_count": 11,
   "metadata": {},
   "outputs": [
    {
     "name": "stderr",
     "output_type": "stream",
     "text": [
      "/anaconda/envs/py36/lib/python3.6/site-packages/tensorflow/python/ops/gradients_impl.py:110: UserWarning: Converting sparse IndexedSlices to a dense Tensor of unknown shape. This may consume a large amount of memory.\n",
      "  \"Converting sparse IndexedSlices to a dense Tensor of unknown shape. \"\n"
     ]
    },
    {
     "name": "stdout",
     "output_type": "stream",
     "text": [
      "\n",
      "WARNING: The TensorFlow contrib module will not be included in TensorFlow 2.0.\n",
      "For more information, please see:\n",
      "  * https://github.com/tensorflow/community/blob/master/rfcs/20180907-contrib-sunset.md\n",
      "  * https://github.com/tensorflow/addons\n",
      "If you depend on functionality not listed there, please file an issue.\n",
      "\n",
      "Test time: 0:00:35.620029\n",
      "Results:\n",
      "auc                 0.839536\n",
      "eval_accuracy       0.840000\n",
      "f1_score            0.833333\n",
      "false_negatives     9.000000\n",
      "false_positives     7.000000\n",
      "global_step        46.000000\n",
      "loss                0.330236\n",
      "precision           0.851064\n",
      "recall              0.816327\n",
      "true_negatives     44.000000\n",
      "true_positives     40.000000\n",
      "Name: 0, dtype: float64\n"
     ]
    }
   ],
   "source": [
    "start = datetime.now()\n",
    "results = bc.test(test)\n",
    "et = datetime.now() - start\n",
    "print(\"Test time: {}\".format(et))\n",
    "print(\"Results:\")\n",
    "print(pd.DataFrame([results]).iloc[0])"
   ]
  },
  {
   "cell_type": "code",
   "execution_count": 12,
   "metadata": {},
   "outputs": [
    {
     "name": "stdout",
     "output_type": "stream",
     "text": [
      "Prediction time: 0:00:16.487120\n"
     ]
    }
   ],
   "source": [
    "start = datetime.now()\n",
    "predictions = bc.predict(test)\n",
    "et = datetime.now() - start\n",
    "print(\"Prediction time: {}\".format(et))"
   ]
  },
  {
   "cell_type": "code",
   "execution_count": 13,
   "metadata": {},
   "outputs": [
    {
     "data": {
      "text/html": [
       "<div>\n",
       "<style scoped>\n",
       "    .dataframe tbody tr th:only-of-type {\n",
       "        vertical-align: middle;\n",
       "    }\n",
       "\n",
       "    .dataframe tbody tr th {\n",
       "        vertical-align: top;\n",
       "    }\n",
       "\n",
       "    .dataframe thead th {\n",
       "        text-align: right;\n",
       "    }\n",
       "</style>\n",
       "<table border=\"1\" class=\"dataframe\">\n",
       "  <thead>\n",
       "    <tr style=\"text-align: right;\">\n",
       "      <th></th>\n",
       "      <th>polarity</th>\n",
       "      <th>probabilities</th>\n",
       "      <th>sentence</th>\n",
       "    </tr>\n",
       "  </thead>\n",
       "  <tbody>\n",
       "    <tr>\n",
       "      <th>0</th>\n",
       "      <td>0</td>\n",
       "      <td>{0: 0.9678986, 1: 0.032101378}</td>\n",
       "      <td>As I sit and think about Poison for the Fairie...</td>\n",
       "    </tr>\n",
       "    <tr>\n",
       "      <th>1</th>\n",
       "      <td>0</td>\n",
       "      <td>{0: 0.90832955, 1: 0.091670424}</td>\n",
       "      <td>First of all, it is interesting to note that o...</td>\n",
       "    </tr>\n",
       "    <tr>\n",
       "      <th>2</th>\n",
       "      <td>1</td>\n",
       "      <td>{0: 0.32386047, 1: 0.67613953}</td>\n",
       "      <td>This series has recently been unearthed and ex...</td>\n",
       "    </tr>\n",
       "    <tr>\n",
       "      <th>3</th>\n",
       "      <td>0</td>\n",
       "      <td>{0: 0.9676147, 1: 0.032385323}</td>\n",
       "      <td>Oh, the horror, the unspeakable horror of this...</td>\n",
       "    </tr>\n",
       "    <tr>\n",
       "      <th>4</th>\n",
       "      <td>1</td>\n",
       "      <td>{0: 0.118904956, 1: 0.88109505}</td>\n",
       "      <td>Why this film was only released in 4 states is...</td>\n",
       "    </tr>\n",
       "    <tr>\n",
       "      <th>5</th>\n",
       "      <td>0</td>\n",
       "      <td>{0: 0.9129528, 1: 0.08704721}</td>\n",
       "      <td>The use of \"astral projection\"(wandering soul)...</td>\n",
       "    </tr>\n",
       "    <tr>\n",
       "      <th>6</th>\n",
       "      <td>0</td>\n",
       "      <td>{0: 0.9807438, 1: 0.019256212}</td>\n",
       "      <td>This movie is not very bad tjough. But one can...</td>\n",
       "    </tr>\n",
       "    <tr>\n",
       "      <th>7</th>\n",
       "      <td>1</td>\n",
       "      <td>{0: 0.06782116, 1: 0.9321788}</td>\n",
       "      <td>Based on its current IMDb rating as well as se...</td>\n",
       "    </tr>\n",
       "    <tr>\n",
       "      <th>8</th>\n",
       "      <td>0</td>\n",
       "      <td>{0: 0.97693217, 1: 0.023067826}</td>\n",
       "      <td>That was one of the worst movies I've ever see...</td>\n",
       "    </tr>\n",
       "    <tr>\n",
       "      <th>9</th>\n",
       "      <td>0</td>\n",
       "      <td>{0: 0.9652635, 1: 0.034736495}</td>\n",
       "      <td>I'd never heard of zero budget \"auteur\" Neil J...</td>\n",
       "    </tr>\n",
       "  </tbody>\n",
       "</table>\n",
       "</div>"
      ],
      "text/plain": [
       "   polarity                    probabilities  \\\n",
       "0         0   {0: 0.9678986, 1: 0.032101378}   \n",
       "1         0  {0: 0.90832955, 1: 0.091670424}   \n",
       "2         1   {0: 0.32386047, 1: 0.67613953}   \n",
       "3         0   {0: 0.9676147, 1: 0.032385323}   \n",
       "4         1  {0: 0.118904956, 1: 0.88109505}   \n",
       "5         0    {0: 0.9129528, 1: 0.08704721}   \n",
       "6         0   {0: 0.9807438, 1: 0.019256212}   \n",
       "7         1    {0: 0.06782116, 1: 0.9321788}   \n",
       "8         0  {0: 0.97693217, 1: 0.023067826}   \n",
       "9         0   {0: 0.9652635, 1: 0.034736495}   \n",
       "\n",
       "                                            sentence  \n",
       "0  As I sit and think about Poison for the Fairie...  \n",
       "1  First of all, it is interesting to note that o...  \n",
       "2  This series has recently been unearthed and ex...  \n",
       "3  Oh, the horror, the unspeakable horror of this...  \n",
       "4  Why this film was only released in 4 states is...  \n",
       "5  The use of \"astral projection\"(wandering soul)...  \n",
       "6  This movie is not very bad tjough. But one can...  \n",
       "7  Based on its current IMDb rating as well as se...  \n",
       "8  That was one of the worst movies I've ever see...  \n",
       "9  I'd never heard of zero budget \"auteur\" Neil J...  "
      ]
     },
     "execution_count": 13,
     "metadata": {},
     "output_type": "execute_result"
    }
   ],
   "source": [
    "pd.DataFrame(predictions)[0:10]"
   ]
  },
  {
   "cell_type": "code",
   "execution_count": null,
   "metadata": {},
   "outputs": [],
   "source": []
  }
 ],
 "metadata": {
  "kernelspec": {
   "display_name": "Python 3.6 - AzureML",
   "language": "python",
   "name": "python3-azureml"
  },
  "language_info": {
   "codemirror_mode": {
    "name": "ipython",
    "version": 3
   },
   "file_extension": ".py",
   "mimetype": "text/x-python",
   "name": "python",
   "nbconvert_exporter": "python",
   "pygments_lexer": "ipython3",
   "version": "3.6.8"
  }
 },
 "nbformat": 4,
 "nbformat_minor": 2
}

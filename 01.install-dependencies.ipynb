{
 "cells": [
  {
   "cell_type": "markdown",
   "metadata": {},
   "source": [
    "# Install Dependencies\n",
    "\n",
    "Sets up and install python dependencies for the tutorial."
   ]
  },
  {
   "cell_type": "markdown",
   "metadata": {},
   "source": [
    "## Modules needed for ELMo."
   ]
  },
  {
   "cell_type": "code",
   "execution_count": 1,
   "metadata": {},
   "outputs": [
    {
     "name": "stdout",
     "output_type": "stream",
     "text": [
      "Collecting update\n",
      "  Downloading https://files.pythonhosted.org/packages/9f/c4/dfe8a392edd35cc635c35cd3b20df6a746aacdeb39b685d1668b56bf819b/update-0.0.1-py2.py3-none-any.whl\n",
      "Requirement already satisfied: spacy in c:\\users\\bryanc\\source\\repos\\mlads-textembedding-bert-elmo-tutorial\\venv\\lib\\site-packages (2.1.4)\n",
      "Requirement already satisfied: tensorflow in c:\\users\\bryanc\\source\\repos\\mlads-textembedding-bert-elmo-tutorial\\venv\\lib\\site-packages (1.13.1)\n",
      "Requirement already satisfied: tensorflow_hub in c:\\users\\bryanc\\source\\repos\\mlads-textembedding-bert-elmo-tutorial\\venv\\lib\\site-packages (0.4.0)\n",
      "Requirement already satisfied: sklearn in c:\\users\\bryanc\\source\\repos\\mlads-textembedding-bert-elmo-tutorial\\venv\\lib\\site-packages (0.0)\n",
      "Requirement already satisfied: xgboost in c:\\users\\bryanc\\source\\repos\\mlads-textembedding-bert-elmo-tutorial\\venv\\lib\\site-packages (0.90)\n",
      "Collecting style==1.1.0 (from update)\n",
      "  Downloading https://files.pythonhosted.org/packages/4c/0b/6be2071e20c621e7beb01b86e8474c2ec344a9750ba5315886f24d6e7386/style-1.1.0-py2.py3-none-any.whl\n",
      "Requirement already satisfied: cymem<2.1.0,>=2.0.2 in c:\\users\\bryanc\\source\\repos\\mlads-textembedding-bert-elmo-tutorial\\venv\\lib\\site-packages (from spacy) (2.0.2)\n",
      "Requirement already satisfied: blis<0.3.0,>=0.2.2 in c:\\users\\bryanc\\source\\repos\\mlads-textembedding-bert-elmo-tutorial\\venv\\lib\\site-packages (from spacy) (0.2.4)\n",
      "Requirement already satisfied: plac<1.0.0,>=0.9.6 in c:\\users\\bryanc\\source\\repos\\mlads-textembedding-bert-elmo-tutorial\\venv\\lib\\site-packages (from spacy) (0.9.6)\n",
      "Requirement already satisfied: srsly<1.1.0,>=0.0.5 in c:\\users\\bryanc\\source\\repos\\mlads-textembedding-bert-elmo-tutorial\\venv\\lib\\site-packages (from spacy) (0.0.5)\n",
      "Requirement already satisfied: thinc<7.1.0,>=7.0.2 in c:\\users\\bryanc\\source\\repos\\mlads-textembedding-bert-elmo-tutorial\\venv\\lib\\site-packages (from spacy) (7.0.4)\n",
      "Requirement already satisfied: jsonschema<3.1.0,>=2.6.0 in c:\\users\\bryanc\\source\\repos\\mlads-textembedding-bert-elmo-tutorial\\venv\\lib\\site-packages (from spacy) (3.0.1)\n",
      "Requirement already satisfied: wasabi<1.1.0,>=0.2.0 in c:\\users\\bryanc\\source\\repos\\mlads-textembedding-bert-elmo-tutorial\\venv\\lib\\site-packages (from spacy) (0.2.2)\n",
      "Requirement already satisfied: numpy>=1.15.0 in c:\\users\\bryanc\\source\\repos\\mlads-textembedding-bert-elmo-tutorial\\venv\\lib\\site-packages (from spacy) (1.16.3)\n",
      "Requirement already satisfied: requests<3.0.0,>=2.13.0 in c:\\users\\bryanc\\source\\repos\\mlads-textembedding-bert-elmo-tutorial\\venv\\lib\\site-packages (from spacy) (2.22.0)\n",
      "Requirement already satisfied: murmurhash<1.1.0,>=0.28.0 in c:\\users\\bryanc\\source\\repos\\mlads-textembedding-bert-elmo-tutorial\\venv\\lib\\site-packages (from spacy) (1.0.2)\n",
      "Requirement already satisfied: preshed<2.1.0,>=2.0.1 in c:\\users\\bryanc\\source\\repos\\mlads-textembedding-bert-elmo-tutorial\\venv\\lib\\site-packages (from spacy) (2.0.1)\n",
      "Requirement already satisfied: protobuf>=3.6.1 in c:\\users\\bryanc\\source\\repos\\mlads-textembedding-bert-elmo-tutorial\\venv\\lib\\site-packages (from tensorflow) (3.7.1)\n",
      "Requirement already satisfied: grpcio>=1.8.6 in c:\\users\\bryanc\\source\\repos\\mlads-textembedding-bert-elmo-tutorial\\venv\\lib\\site-packages (from tensorflow) (1.20.1)\n",
      "Requirement already satisfied: tensorflow-estimator<1.14.0rc0,>=1.13.0 in c:\\users\\bryanc\\source\\repos\\mlads-textembedding-bert-elmo-tutorial\\venv\\lib\\site-packages (from tensorflow) (1.13.0)\n",
      "Requirement already satisfied: gast>=0.2.0 in c:\\users\\bryanc\\source\\repos\\mlads-textembedding-bert-elmo-tutorial\\venv\\lib\\site-packages (from tensorflow) (0.2.2)\n",
      "Requirement already satisfied: absl-py>=0.1.6 in c:\\users\\bryanc\\source\\repos\\mlads-textembedding-bert-elmo-tutorial\\venv\\lib\\site-packages (from tensorflow) (0.7.1)\n",
      "Requirement already satisfied: six>=1.10.0 in c:\\users\\bryanc\\source\\repos\\mlads-textembedding-bert-elmo-tutorial\\venv\\lib\\site-packages (from tensorflow) (1.12.0)\n",
      "Requirement already satisfied: astor>=0.6.0 in c:\\users\\bryanc\\source\\repos\\mlads-textembedding-bert-elmo-tutorial\\venv\\lib\\site-packages (from tensorflow) (0.8.0)\n",
      "Requirement already satisfied: wheel>=0.26 in c:\\users\\bryanc\\source\\repos\\mlads-textembedding-bert-elmo-tutorial\\venv\\lib\\site-packages (from tensorflow) (0.33.4)\n",
      "Requirement already satisfied: tensorboard<1.14.0,>=1.13.0 in c:\\users\\bryanc\\source\\repos\\mlads-textembedding-bert-elmo-tutorial\\venv\\lib\\site-packages (from tensorflow) (1.13.1)\n",
      "Requirement already satisfied: termcolor>=1.1.0 in c:\\users\\bryanc\\source\\repos\\mlads-textembedding-bert-elmo-tutorial\\venv\\lib\\site-packages (from tensorflow) (1.1.0)\n",
      "Requirement already satisfied: keras-applications>=1.0.6 in c:\\users\\bryanc\\source\\repos\\mlads-textembedding-bert-elmo-tutorial\\venv\\lib\\site-packages (from tensorflow) (1.0.7)\n",
      "Requirement already satisfied: keras-preprocessing>=1.0.5 in c:\\users\\bryanc\\source\\repos\\mlads-textembedding-bert-elmo-tutorial\\venv\\lib\\site-packages (from tensorflow) (1.0.9)\n",
      "Requirement already satisfied: scikit-learn in c:\\users\\bryanc\\source\\repos\\mlads-textembedding-bert-elmo-tutorial\\venv\\lib\\site-packages (from sklearn) (0.21.1)\n",
      "Requirement already satisfied: scipy in c:\\users\\bryanc\\source\\repos\\mlads-textembedding-bert-elmo-tutorial\\venv\\lib\\site-packages (from xgboost) (1.3.0)\n",
      "Requirement already satisfied: tqdm<5.0.0,>=4.10.0 in c:\\users\\bryanc\\source\\repos\\mlads-textembedding-bert-elmo-tutorial\\venv\\lib\\site-packages (from thinc<7.1.0,>=7.0.2->spacy) (4.32.1)\n",
      "Requirement already satisfied: setuptools in c:\\users\\bryanc\\source\\repos\\mlads-textembedding-bert-elmo-tutorial\\venv\\lib\\site-packages (from jsonschema<3.1.0,>=2.6.0->spacy) (40.6.2)\n",
      "Requirement already satisfied: attrs>=17.4.0 in c:\\users\\bryanc\\source\\repos\\mlads-textembedding-bert-elmo-tutorial\\venv\\lib\\site-packages (from jsonschema<3.1.0,>=2.6.0->spacy) (19.1.0)\n",
      "Requirement already satisfied: pyrsistent>=0.14.0 in c:\\users\\bryanc\\source\\repos\\mlads-textembedding-bert-elmo-tutorial\\venv\\lib\\site-packages (from jsonschema<3.1.0,>=2.6.0->spacy) (0.15.2)\n",
      "Requirement already satisfied: certifi>=2017.4.17 in c:\\users\\bryanc\\source\\repos\\mlads-textembedding-bert-elmo-tutorial\\venv\\lib\\site-packages (from requests<3.0.0,>=2.13.0->spacy) (2019.3.9)\n",
      "Requirement already satisfied: idna<2.9,>=2.5 in c:\\users\\bryanc\\source\\repos\\mlads-textembedding-bert-elmo-tutorial\\venv\\lib\\site-packages (from requests<3.0.0,>=2.13.0->spacy) (2.8)\n",
      "Requirement already satisfied: urllib3!=1.25.0,!=1.25.1,<1.26,>=1.21.1 in c:\\users\\bryanc\\source\\repos\\mlads-textembedding-bert-elmo-tutorial\\venv\\lib\\site-packages (from requests<3.0.0,>=2.13.0->spacy) (1.25.2)\n",
      "Requirement already satisfied: chardet<3.1.0,>=3.0.2 in c:\\users\\bryanc\\source\\repos\\mlads-textembedding-bert-elmo-tutorial\\venv\\lib\\site-packages (from requests<3.0.0,>=2.13.0->spacy) (3.0.4)\n",
      "Requirement already satisfied: mock>=2.0.0 in c:\\users\\bryanc\\source\\repos\\mlads-textembedding-bert-elmo-tutorial\\venv\\lib\\site-packages (from tensorflow-estimator<1.14.0rc0,>=1.13.0->tensorflow) (3.0.5)\n",
      "Requirement already satisfied: werkzeug>=0.11.15 in c:\\users\\bryanc\\source\\repos\\mlads-textembedding-bert-elmo-tutorial\\venv\\lib\\site-packages (from tensorboard<1.14.0,>=1.13.0->tensorflow) (0.15.4)\n",
      "Requirement already satisfied: markdown>=2.6.8 in c:\\users\\bryanc\\source\\repos\\mlads-textembedding-bert-elmo-tutorial\\venv\\lib\\site-packages (from tensorboard<1.14.0,>=1.13.0->tensorflow) (3.1)\n",
      "Requirement already satisfied: h5py in c:\\users\\bryanc\\source\\repos\\mlads-textembedding-bert-elmo-tutorial\\venv\\lib\\site-packages (from keras-applications>=1.0.6->tensorflow) (2.9.0)\n",
      "Requirement already satisfied: joblib>=0.11 in c:\\users\\bryanc\\source\\repos\\mlads-textembedding-bert-elmo-tutorial\\venv\\lib\\site-packages (from scikit-learn->sklearn) (0.13.2)\n",
      "Installing collected packages: style, update\n",
      "Successfully installed style-1.1.0 update-0.0.1\n",
      "Note: you may need to restart the kernel to use updated packages.\n"
     ]
    },
    {
     "name": "stderr",
     "output_type": "stream",
     "text": [
      "You are using pip version 18.1, however version 19.1.1 is available.\n",
      "You should consider upgrading via the 'python -m pip install --upgrade pip' command.\n"
     ]
    }
   ],
   "source": [
    "%pip install update spacy tensorflow tensorflow_hub sklearn xgboost spacy"
   ]
  },
  {
   "cell_type": "markdown",
   "metadata": {},
   "source": [
    "Get word corpus for spacy."
   ]
  },
  {
   "cell_type": "code",
   "execution_count": 4,
   "metadata": {},
   "outputs": [
    {
     "name": "stdout",
     "output_type": "stream",
     "text": [
      "✔ Download and installation successful\n",
      "You can now load the model via spacy.load('en_core_web_sm')\n",
      "✘ Couldn't link model to 'en'\n",
      "Creating a symlink in spacy/data failed. Make sure you have the required\n",
      "permissions and try re-running the command as admin, or use a virtualenv. You\n",
      "can still import the model as a module and call its load() method, or create the\n",
      "symlink manually.\n",
      "c:\\users\\bryanc\\source\\repos\\mlads-textembedding-bert-elmo-tutorial\\venv\\lib\\site-packages\\en_core_web_sm\n",
      "-->\n",
      "c:\\users\\bryanc\\source\\repos\\mlads-textembedding-bert-elmo-tutorial\\venv\\lib\\site-packages\\spacy\\data\\en\n",
      "⚠ Download successful but linking failed\n",
      "Creating a shortcut link for 'en' didn't work (maybe you don't have admin\n",
      "permissions?), but you can still load the model via its full package name: nlp =\n",
      "spacy.load('en_core_web_sm')\n"
     ]
    }
   ],
   "source": [
    "%run -m spacy download en"
   ]
  },
  {
   "cell_type": "markdown",
   "metadata": {},
   "source": [
    "## Dependencies for Bert"
   ]
  },
  {
   "cell_type": "code",
   "execution_count": 5,
   "metadata": {},
   "outputs": [
    {
     "name": "stdout",
     "output_type": "stream",
     "text": [
      "Requirement already satisfied: bert-tensorflow in c:\\users\\bryanc\\source\\repos\\mlads-textembedding-bert-elmo-tutorial\\venv\\lib\\site-packages (1.0.1)\n",
      "Requirement already satisfied: sklearn in c:\\users\\bryanc\\source\\repos\\mlads-textembedding-bert-elmo-tutorial\\venv\\lib\\site-packages (0.0)\n",
      "Requirement already satisfied: tensorflow_hub in c:\\users\\bryanc\\source\\repos\\mlads-textembedding-bert-elmo-tutorial\\venv\\lib\\site-packages (0.4.0)\n",
      "Requirement already satisfied: six in c:\\users\\bryanc\\source\\repos\\mlads-textembedding-bert-elmo-tutorial\\venv\\lib\\site-packages (from bert-tensorflow) (1.12.0)\n",
      "Requirement already satisfied: scikit-learn in c:\\users\\bryanc\\source\\repos\\mlads-textembedding-bert-elmo-tutorial\\venv\\lib\\site-packages (from sklearn) (0.21.1)\n",
      "Requirement already satisfied: protobuf>=3.4.0 in c:\\users\\bryanc\\source\\repos\\mlads-textembedding-bert-elmo-tutorial\\venv\\lib\\site-packages (from tensorflow_hub) (3.7.1)\n",
      "Requirement already satisfied: numpy>=1.12.0 in c:\\users\\bryanc\\source\\repos\\mlads-textembedding-bert-elmo-tutorial\\venv\\lib\\site-packages (from tensorflow_hub) (1.16.3)\n",
      "Requirement already satisfied: scipy>=0.17.0 in c:\\users\\bryanc\\source\\repos\\mlads-textembedding-bert-elmo-tutorial\\venv\\lib\\site-packages (from scikit-learn->sklearn) (1.3.0)\n",
      "Requirement already satisfied: joblib>=0.11 in c:\\users\\bryanc\\source\\repos\\mlads-textembedding-bert-elmo-tutorial\\venv\\lib\\site-packages (from scikit-learn->sklearn) (0.13.2)\n",
      "Requirement already satisfied: setuptools in c:\\users\\bryanc\\source\\repos\\mlads-textembedding-bert-elmo-tutorial\\venv\\lib\\site-packages (from protobuf>=3.4.0->tensorflow_hub) (40.6.2)\n"
     ]
    },
    {
     "name": "stderr",
     "output_type": "stream",
     "text": [
      "You are using pip version 18.1, however version 19.1.1 is available.\n",
      "You should consider upgrading via the 'python -m pip install --upgrade pip' command.\n"
     ]
    },
    {
     "name": "stdout",
     "output_type": "stream",
     "text": [
      "Note: you may need to restart the kernel to use updated packages.\n"
     ]
    }
   ],
   "source": [
    "%pip install bert-tensorflow sklearn tensorflow_hub"
   ]
  },
  {
   "cell_type": "code",
   "execution_count": null,
   "metadata": {},
   "outputs": [],
   "source": []
  }
 ],
 "metadata": {
  "kernelspec": {
   "display_name": "Python 3",
   "language": "python",
   "name": "python3"
  },
  "language_info": {
   "codemirror_mode": {
    "name": "ipython",
    "version": 3
   },
   "file_extension": ".py",
   "mimetype": "text/x-python",
   "name": "python",
   "nbconvert_exporter": "python",
   "pygments_lexer": "ipython3",
   "version": "3.7.2"
  }
 },
 "nbformat": 4,
 "nbformat_minor": 2
}

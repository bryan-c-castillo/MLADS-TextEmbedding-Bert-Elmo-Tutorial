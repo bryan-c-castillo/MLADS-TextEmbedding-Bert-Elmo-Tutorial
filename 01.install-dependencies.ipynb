{
 "cells": [
  {
   "cell_type": "markdown",
   "metadata": {},
   "source": [
    "# Install Dependencies\n",
    "\n",
    "Sets up and install python dependencies for the tutorial."
   ]
  },
  {
   "cell_type": "markdown",
   "metadata": {},
   "source": [
    "## Modules needed for ELMo."
   ]
  },
  {
   "cell_type": "code",
   "execution_count": 1,
   "metadata": {},
   "outputs": [
    {
     "name": "stdout",
     "output_type": "stream",
     "text": [
      "Requirement already satisfied: update in /data/anaconda/envs/py36/lib/python3.6/site-packages (0.0.1)\n",
      "Requirement already satisfied: spacy in /data/anaconda/envs/py36/lib/python3.6/site-packages (2.1.4)\n",
      "Requirement already satisfied: tensorflow in /data/anaconda/envs/py36/lib/python3.6/site-packages (1.13.1)\n",
      "Requirement already satisfied: tensorflow_hub in /data/anaconda/envs/py36/lib/python3.6/site-packages (0.4.0)\n",
      "Requirement already satisfied: sklearn in /data/anaconda/envs/py36/lib/python3.6/site-packages (0.0)\n",
      "Requirement already satisfied: xgboost in /data/anaconda/envs/py36/lib/python3.6/site-packages (0.90)\n",
      "Requirement already satisfied: style==1.1.0 in /data/anaconda/envs/py36/lib/python3.6/site-packages (from update) (1.1.0)\n",
      "Requirement already satisfied: plac<1.0.0,>=0.9.6 in /data/anaconda/envs/py36/lib/python3.6/site-packages (from spacy) (0.9.6)\n",
      "Requirement already satisfied: wasabi<1.1.0,>=0.2.0 in /data/anaconda/envs/py36/lib/python3.6/site-packages (from spacy) (0.2.2)\n",
      "Requirement already satisfied: jsonschema<3.1.0,>=2.6.0 in /data/anaconda/envs/py36/lib/python3.6/site-packages (from spacy) (3.0.1)\n",
      "Requirement already satisfied: cymem<2.1.0,>=2.0.2 in /data/anaconda/envs/py36/lib/python3.6/site-packages (from spacy) (2.0.2)\n",
      "Requirement already satisfied: requests<3.0.0,>=2.13.0 in /data/anaconda/envs/py36/lib/python3.6/site-packages (from spacy) (2.21.0)\n",
      "Requirement already satisfied: blis<0.3.0,>=0.2.2 in /data/anaconda/envs/py36/lib/python3.6/site-packages (from spacy) (0.2.4)\n",
      "Requirement already satisfied: thinc<7.1.0,>=7.0.2 in /data/anaconda/envs/py36/lib/python3.6/site-packages (from spacy) (7.0.4)\n",
      "Requirement already satisfied: murmurhash<1.1.0,>=0.28.0 in /data/anaconda/envs/py36/lib/python3.6/site-packages (from spacy) (1.0.2)\n",
      "Requirement already satisfied: srsly<1.1.0,>=0.0.5 in /data/anaconda/envs/py36/lib/python3.6/site-packages (from spacy) (0.0.5)\n",
      "Requirement already satisfied: numpy>=1.15.0 in /data/anaconda/envs/py36/lib/python3.6/site-packages (from spacy) (1.16.2)\n",
      "Requirement already satisfied: preshed<2.1.0,>=2.0.1 in /data/anaconda/envs/py36/lib/python3.6/site-packages (from spacy) (2.0.1)\n",
      "Requirement already satisfied: six>=1.10.0 in /data/anaconda/envs/py36/lib/python3.6/site-packages (from tensorflow) (1.12.0)\n",
      "Requirement already satisfied: keras-applications>=1.0.6 in /data/anaconda/envs/py36/lib/python3.6/site-packages (from tensorflow) (1.0.7)\n",
      "Requirement already satisfied: termcolor>=1.1.0 in /data/anaconda/envs/py36/lib/python3.6/site-packages (from tensorflow) (1.1.0)\n",
      "Requirement already satisfied: grpcio>=1.8.6 in /data/anaconda/envs/py36/lib/python3.6/site-packages (from tensorflow) (1.16.1)\n",
      "Requirement already satisfied: gast>=0.2.0 in /data/anaconda/envs/py36/lib/python3.6/site-packages (from tensorflow) (0.2.2)\n",
      "Requirement already satisfied: tensorflow-estimator<1.14.0rc0,>=1.13.0 in /data/anaconda/envs/py36/lib/python3.6/site-packages (from tensorflow) (1.13.0)\n",
      "Requirement already satisfied: wheel>=0.26 in /data/anaconda/envs/py36/lib/python3.6/site-packages (from tensorflow) (0.30.0)\n",
      "Requirement already satisfied: tensorboard<1.14.0,>=1.13.0 in /data/anaconda/envs/py36/lib/python3.6/site-packages (from tensorflow) (1.13.1)\n",
      "Requirement already satisfied: keras-preprocessing>=1.0.5 in /data/anaconda/envs/py36/lib/python3.6/site-packages (from tensorflow) (1.0.9)\n",
      "Requirement already satisfied: protobuf>=3.6.1 in /data/anaconda/envs/py36/lib/python3.6/site-packages (from tensorflow) (3.7.1)\n",
      "Requirement already satisfied: astor>=0.6.0 in /data/anaconda/envs/py36/lib/python3.6/site-packages (from tensorflow) (0.7.1)\n",
      "Requirement already satisfied: absl-py>=0.1.6 in /data/anaconda/envs/py36/lib/python3.6/site-packages (from tensorflow) (0.7.1)\n",
      "Requirement already satisfied: scikit-learn in /data/anaconda/envs/py36/lib/python3.6/site-packages (from sklearn) (0.20.3)\n",
      "Requirement already satisfied: scipy in /data/anaconda/envs/py36/lib/python3.6/site-packages (from xgboost) (1.1.0)\n",
      "Requirement already satisfied: attrs>=17.4.0 in /data/anaconda/envs/py36/lib/python3.6/site-packages (from jsonschema<3.1.0,>=2.6.0->spacy) (19.1.0)\n",
      "Requirement already satisfied: pyrsistent>=0.14.0 in /data/anaconda/envs/py36/lib/python3.6/site-packages (from jsonschema<3.1.0,>=2.6.0->spacy) (0.14.11)\n",
      "Requirement already satisfied: setuptools in /data/anaconda/envs/py36/lib/python3.6/site-packages (from jsonschema<3.1.0,>=2.6.0->spacy) (41.0.1)\n",
      "Requirement already satisfied: chardet<3.1.0,>=3.0.2 in /data/anaconda/envs/py36/lib/python3.6/site-packages (from requests<3.0.0,>=2.13.0->spacy) (3.0.4)\n",
      "Requirement already satisfied: idna<2.9,>=2.5 in /data/anaconda/envs/py36/lib/python3.6/site-packages (from requests<3.0.0,>=2.13.0->spacy) (2.8)\n",
      "Requirement already satisfied: urllib3<1.25,>=1.21.1 in /data/anaconda/envs/py36/lib/python3.6/site-packages (from requests<3.0.0,>=2.13.0->spacy) (1.24.3)\n",
      "Requirement already satisfied: certifi>=2017.4.17 in /data/anaconda/envs/py36/lib/python3.6/site-packages (from requests<3.0.0,>=2.13.0->spacy) (2019.3.9)\n",
      "Requirement already satisfied: tqdm<5.0.0,>=4.10.0 in /data/anaconda/envs/py36/lib/python3.6/site-packages (from thinc<7.1.0,>=7.0.2->spacy) (4.31.1)\n",
      "Requirement already satisfied: h5py in /data/anaconda/envs/py36/lib/python3.6/site-packages (from keras-applications>=1.0.6->tensorflow) (2.9.0)\n",
      "Requirement already satisfied: werkzeug>=0.11.15 in /data/anaconda/envs/py36/lib/python3.6/site-packages (from tensorboard<1.14.0,>=1.13.0->tensorflow) (0.15.2)\n",
      "Requirement already satisfied: markdown>=2.6.8 in /data/anaconda/envs/py36/lib/python3.6/site-packages (from tensorboard<1.14.0,>=1.13.0->tensorflow) (3.1)\n",
      "Note: you may need to restart the kernel to use updated packages.\n"
     ]
    }
   ],
   "source": [
    "%pip install update spacy tensorflow tensorflow_hub sklearn xgboost"
   ]
  },
  {
   "cell_type": "markdown",
   "metadata": {},
   "source": [
    "## Get corpus for Spacy"
   ]
  },
  {
   "cell_type": "markdown",
   "metadata": {},
   "source": [
    "Get word corpus for spacy."
   ]
  },
  {
   "cell_type": "code",
   "execution_count": 2,
   "metadata": {},
   "outputs": [
    {
     "name": "stdout",
     "output_type": "stream",
     "text": [
      "\u001b[38;5;2m✔ Download and installation successful\u001b[0m\n",
      "You can now load the model via spacy.load('en_core_web_sm')\n",
      "\u001b[38;5;2m✔ Linking successful\u001b[0m\n",
      "/anaconda/envs/py36/lib/python3.6/site-packages/en_core_web_sm -->\n",
      "/anaconda/envs/py36/lib/python3.6/site-packages/spacy/data/en\n",
      "You can now load the model via spacy.load('en')\n"
     ]
    }
   ],
   "source": [
    "%run -m spacy download en"
   ]
  },
  {
   "cell_type": "markdown",
   "metadata": {},
   "source": [
    "## NLTK\n",
    "Spacy seems to have some issues on windows installing en.\n",
    "Install NLTK for if running this on windows."
   ]
  },
  {
   "cell_type": "code",
   "execution_count": 3,
   "metadata": {},
   "outputs": [
    {
     "name": "stdout",
     "output_type": "stream",
     "text": [
      "Requirement already satisfied: nltk in /data/anaconda/envs/py36/lib/python3.6/site-packages (3.4.1)\n",
      "Requirement already satisfied: six in /data/anaconda/envs/py36/lib/python3.6/site-packages (from nltk) (1.12.0)\n",
      "Note: you may need to restart the kernel to use updated packages.\n"
     ]
    }
   ],
   "source": [
    "%pip install nltk"
   ]
  },
  {
   "cell_type": "code",
   "execution_count": 4,
   "metadata": {},
   "outputs": [
    {
     "name": "stderr",
     "output_type": "stream",
     "text": [
      "[nltk_data] Downloading package wordnet to\n",
      "[nltk_data]     /home/azureuser/nltk_data...\n",
      "[nltk_data]   Package wordnet is already up-to-date!\n"
     ]
    },
    {
     "data": {
      "text/plain": [
       "True"
      ]
     },
     "execution_count": 4,
     "metadata": {},
     "output_type": "execute_result"
    }
   ],
   "source": [
    "import nltk\n",
    "nltk.download(\"wordnet\")"
   ]
  },
  {
   "cell_type": "markdown",
   "metadata": {},
   "source": [
    "## Dependencies for Bert"
   ]
  },
  {
   "cell_type": "code",
   "execution_count": 5,
   "metadata": {},
   "outputs": [
    {
     "name": "stdout",
     "output_type": "stream",
     "text": [
      "Requirement already satisfied: bert-tensorflow in /data/anaconda/envs/py36/lib/python3.6/site-packages (1.0.1)\n",
      "Requirement already satisfied: sklearn in /data/anaconda/envs/py36/lib/python3.6/site-packages (0.0)\n",
      "Requirement already satisfied: tensorflow_hub in /data/anaconda/envs/py36/lib/python3.6/site-packages (0.4.0)\n",
      "Requirement already satisfied: six in /data/anaconda/envs/py36/lib/python3.6/site-packages (from bert-tensorflow) (1.12.0)\n",
      "Requirement already satisfied: scikit-learn in /data/anaconda/envs/py36/lib/python3.6/site-packages (from sklearn) (0.20.3)\n",
      "Requirement already satisfied: numpy>=1.12.0 in /data/anaconda/envs/py36/lib/python3.6/site-packages (from tensorflow_hub) (1.16.2)\n",
      "Requirement already satisfied: protobuf>=3.4.0 in /data/anaconda/envs/py36/lib/python3.6/site-packages (from tensorflow_hub) (3.7.1)\n",
      "Requirement already satisfied: scipy>=0.13.3 in /data/anaconda/envs/py36/lib/python3.6/site-packages (from scikit-learn->sklearn) (1.1.0)\n",
      "Requirement already satisfied: setuptools in /data/anaconda/envs/py36/lib/python3.6/site-packages (from protobuf>=3.4.0->tensorflow_hub) (41.0.1)\n",
      "Note: you may need to restart the kernel to use updated packages.\n"
     ]
    }
   ],
   "source": [
    "%pip install bert-tensorflow sklearn tensorflow_hub"
   ]
  },
  {
   "cell_type": "code",
   "execution_count": null,
   "metadata": {},
   "outputs": [],
   "source": []
  }
 ],
 "metadata": {
  "kernelspec": {
   "display_name": "Python 3.6 - AzureML",
   "language": "python",
   "name": "python3-azureml"
  },
  "language_info": {
   "codemirror_mode": {
    "name": "ipython",
    "version": 3
   },
   "file_extension": ".py",
   "mimetype": "text/x-python",
   "name": "python",
   "nbconvert_exporter": "python",
   "pygments_lexer": "ipython3",
   "version": "3.6.8"
  }
 },
 "nbformat": 4,
 "nbformat_minor": 2
}
